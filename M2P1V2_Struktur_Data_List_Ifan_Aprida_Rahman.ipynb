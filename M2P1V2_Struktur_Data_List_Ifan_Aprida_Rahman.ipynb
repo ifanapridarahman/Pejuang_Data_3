{
  "nbformat": 4,
  "nbformat_minor": 0,
  "metadata": {
    "colab": {
      "name": " M2P1V2_Struktur_Data_List_Ifan Aprida Rahman.ipynb",
      "provenance": []
    },
    "kernelspec": {
      "name": "python3",
      "display_name": "Python 3"
    },
    "language_info": {
      "name": "python"
    }
  },
  "cells": [
    {
      "cell_type": "markdown",
      "metadata": {
        "id": "5f3kDl7Z3ErV"
      },
      "source": [
        "# List"
      ]
    },
    {
      "cell_type": "markdown",
      "metadata": {
        "id": "zcrQpW-g3J1x"
      },
      "source": [
        "List merupakan jenis kumpulan data terurut (ordered sequence), dan merupakan salah satu variabel yang sering digunakan pada Python. Serupa, namun tidak sama dengan arrau pada bahasa pemrograman lainnya. Bedanya, elemen List pada python tidak harus memiliki tipe data yang sama. Mendeklarasikan List cukup mudah dengan kurung siku dan elemen yang dipisahkan dengan koma."
      ]
    },
    {
      "cell_type": "markdown",
      "metadata": {
        "id": "jprfbY8I3f0D"
      },
      "source": [
        "Setiap data di dalamnya dapat diakses dengan indeks yang dimulai dari 0"
      ]
    },
    {
      "cell_type": "code",
      "metadata": {
        "colab": {
          "base_uri": "https://localhost:8080/"
        },
        "id": "3q0VZvEb2k-F",
        "outputId": "033a8731-8385-4b04-db52-018df4257dcc"
      },
      "source": [
        "# Contoh List\n",
        "L1 = [1, 4, 2, 13]\n",
        "\n",
        "print(type(L1))"
      ],
      "execution_count": 29,
      "outputs": [
        {
          "output_type": "stream",
          "name": "stdout",
          "text": [
            "<class 'list'>\n"
          ]
        }
      ]
    },
    {
      "cell_type": "code",
      "metadata": {
        "colab": {
          "base_uri": "https://localhost:8080/"
        },
        "id": "epdjMB153u1P",
        "outputId": "8647504c-57b0-4126-bc7e-745fc21ead42"
      },
      "source": [
        "L2 = [\"a\",\"python\",3]\n",
        "L2"
      ],
      "execution_count": 30,
      "outputs": [
        {
          "output_type": "execute_result",
          "data": {
            "text/plain": [
              "['a', 'python', 3]"
            ]
          },
          "metadata": {},
          "execution_count": 30
        }
      ]
    },
    {
      "cell_type": "code",
      "metadata": {
        "colab": {
          "base_uri": "https://localhost:8080/"
        },
        "id": "YBfwZsxk31aD",
        "outputId": "a4b86137-c1c0-4f97-d87a-f056c6477d7c"
      },
      "source": [
        "print(L1)\n",
        "print(L2)"
      ],
      "execution_count": 31,
      "outputs": [
        {
          "output_type": "stream",
          "name": "stdout",
          "text": [
            "[1, 4, 2, 13]\n",
            "['a', 'python', 3]\n"
          ]
        }
      ]
    },
    {
      "cell_type": "markdown",
      "metadata": {
        "id": "9FV9SyJ834wY"
      },
      "source": [
        "## Latihan 1"
      ]
    },
    {
      "cell_type": "markdown",
      "metadata": {
        "id": "vTJ8JPS_38uZ"
      },
      "source": [
        "Buatlah List kalian sendiri"
      ]
    },
    {
      "cell_type": "code",
      "metadata": {
        "colab": {
          "base_uri": "https://localhost:8080/"
        },
        "id": "qSoujUqc3_Tj",
        "outputId": "ecf91ffd-1999-48fb-d9c7-4901357306b2"
      },
      "source": [
        "A = [1, 3, 5, 7, 9]\n",
        "print(A)\n",
        "print(type(A))"
      ],
      "execution_count": null,
      "outputs": [
        {
          "output_type": "stream",
          "name": "stdout",
          "text": [
            "[1, 3, 5, 7, 9]\n",
            "<class 'list'>\n"
          ]
        }
      ]
    },
    {
      "cell_type": "code",
      "metadata": {
        "colab": {
          "base_uri": "https://localhost:8080/"
        },
        "id": "_IK4jV1v4N4F",
        "outputId": "8743e8e9-289a-40e8-c146-a3e14e140366"
      },
      "source": [
        "B = [\"i\", \"Matematika\", 6]\n",
        "print(B)\n",
        "print(type(B))"
      ],
      "execution_count": null,
      "outputs": [
        {
          "output_type": "stream",
          "name": "stdout",
          "text": [
            "['i', 'Matematika', 6]\n",
            "<class 'list'>\n"
          ]
        }
      ]
    },
    {
      "cell_type": "code",
      "metadata": {
        "colab": {
          "base_uri": "https://localhost:8080/"
        },
        "id": "gQLsObnY4f5x",
        "outputId": "4eda21b6-7d07-458f-c4c1-7c59e4ef9c43"
      },
      "source": [
        "print(A)\n",
        "print(B)"
      ],
      "execution_count": null,
      "outputs": [
        {
          "output_type": "stream",
          "name": "stdout",
          "text": [
            "[1, 3, 5, 7, 9]\n",
            "['i', 'Matematika', 6]\n"
          ]
        }
      ]
    },
    {
      "cell_type": "markdown",
      "metadata": {
        "id": "BlgNBZU04q_9"
      },
      "source": [
        "## Sifat-sifat List"
      ]
    },
    {
      "cell_type": "code",
      "metadata": {
        "colab": {
          "base_uri": "https://localhost:8080/"
        },
        "id": "JTIIfFkt7jFS",
        "outputId": "bdd2b708-70b5-48be-c5d1-997225fa9b92"
      },
      "source": [
        "#Terurut/Ordered\n",
        "print(\"Memanggil List L1 dengan indeks berurutan\", L1[0:3])\n",
        "\n",
        "#Bisa diganti/Mutable\n",
        "L1[1] = 2\n",
        "print(\"List L1 setelah diganti elemennya:\", L1)\n"
      ],
      "execution_count": 33,
      "outputs": [
        {
          "output_type": "stream",
          "name": "stdout",
          "text": [
            "Memanggil List L1 dengan indeks berurutan [1, 4, 2]\n",
            "List L1 setelah diganti elemennya: [1, 2, 2, 13]\n"
          ]
        }
      ]
    },
    {
      "cell_type": "code",
      "metadata": {
        "colab": {
          "base_uri": "https://localhost:8080/"
        },
        "id": "lrpvicjT7tPB",
        "outputId": "eb06fcd4-cec0-4768-ef41-d2001c3cf7b8"
      },
      "source": [
        "L1 = [1, \"dua\", True, 2+3j]\n",
        "\n",
        "#Dapat Diindeks/Sclicing\n",
        "print(\"slicing List L1:\", L1[3])\n",
        "\n",
        "#Dapat diijinkan duplikasi\n",
        "L1 = [1, \"dua\", True, 2+3j, 2+3j]\n",
        "print(\"Duplikasi pada List L1:\", L1)"
      ],
      "execution_count": 35,
      "outputs": [
        {
          "output_type": "stream",
          "name": "stdout",
          "text": [
            "slicing List L1: (2+3j)\n",
            "Duplikasi pada List L1: [1, 'dua', True, (2+3j), (2+3j)]\n"
          ]
        }
      ]
    },
    {
      "cell_type": "markdown",
      "metadata": {
        "id": "ztMSkAw68E2U"
      },
      "source": [
        "## Latihan 2"
      ]
    },
    {
      "cell_type": "markdown",
      "metadata": {
        "id": "9p3bdmOf8G5G"
      },
      "source": [
        "Ganti elemen yang ada pada list yang kalian buat"
      ]
    },
    {
      "cell_type": "code",
      "metadata": {
        "colab": {
          "base_uri": "https://localhost:8080/"
        },
        "id": "q7X-Emih8KXY",
        "outputId": "9f30198b-b269-4749-b7bf-be32bbbe9383"
      },
      "source": [
        "#Terurut/Ordered\n",
        "print(\"Memanggil List A dengan indeks berurutan\", A[2:5])\n",
        "\n",
        "#Bisa diganti/Mutable\n",
        "A[4] = 3\n",
        "print(\"List A setelah diganti elemennya:\", A)"
      ],
      "execution_count": 37,
      "outputs": [
        {
          "output_type": "stream",
          "name": "stdout",
          "text": [
            "Memanggil List A dengan indeks berurutan [5, 7, 9]\n",
            "List A setelah diganti elemennya: [1, 3, 5, 7, 3]\n"
          ]
        }
      ]
    },
    {
      "cell_type": "code",
      "metadata": {
        "colab": {
          "base_uri": "https://localhost:8080/"
        },
        "id": "RQEk9Bzx8crR",
        "outputId": "9e82076c-cd5b-483d-ac47-83122b52beb8"
      },
      "source": [
        "A = [4, \"lima\", False, 2j+4]\n",
        "\n",
        "#Dapat Diindeks/Sclicing\n",
        "print(\"slicing List A:\", A[3])\n",
        "print(\"slicing List A(2):\", A[2])\n",
        "\n",
        "#Dapat diijinkan duplikasi\n",
        "A = [4, \"lima\", False, 2j+4, 2j+4]\n",
        "print(\"Duplikasi pada List A:\", A)"
      ],
      "execution_count": 39,
      "outputs": [
        {
          "output_type": "stream",
          "name": "stdout",
          "text": [
            "slicing List A: (4+2j)\n",
            "slicing List A(2): False\n",
            "Duplikasi pada List A: [4, 'lima', False, (4+2j), (4+2j)]\n"
          ]
        }
      ]
    }
  ]
}