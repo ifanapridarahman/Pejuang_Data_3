{
  "nbformat": 4,
  "nbformat_minor": 0,
  "metadata": {
    "colab": {
      "name": "M3P1V1_If_Elif_Else.ipynb",
      "provenance": [],
      "collapsed_sections": [],
      "authorship_tag": "ABX9TyNMH+UwouUU/rOILDGKoC/b",
      "include_colab_link": true
    },
    "kernelspec": {
      "name": "python3",
      "display_name": "Python 3"
    },
    "language_info": {
      "name": "python"
    }
  },
  "cells": [
    {
      "cell_type": "markdown",
      "metadata": {
        "id": "view-in-github",
        "colab_type": "text"
      },
      "source": [
        "<a href=\"https://colab.research.google.com/github/ifanapridarahman/Pejuang_Data_3/blob/main/M3P1V1_If_Elif_Else.ipynb\" target=\"_parent\"><img src=\"https://colab.research.google.com/assets/colab-badge.svg\" alt=\"Open In Colab\"/></a>"
      ]
    },
    {
      "cell_type": "markdown",
      "metadata": {
        "id": "xk984pZf-0cJ"
      },
      "source": [
        "# Percabangan/ Struktur Pemilihan"
      ]
    },
    {
      "cell_type": "markdown",
      "metadata": {
        "id": "AgENRu5U-4BY"
      },
      "source": [
        "Pada bagian ini, kamu akan membuat keputusan pada bahasa pemrograman Python menggunakan struktur percabangan atau juga sering disebut IF ELSE Statement. Pengambilan keputusan dibutuhkan ketika kamu akan mengeksekusi suaty kode jika sebuah kondisi tertentu dipenuhi.\n",
        "\n",
        "Statement if .. elif ... else digunakan pada Bahasa Python untuk pengambilan keputusan\n"
      ]
    },
    {
      "cell_type": "markdown",
      "metadata": {
        "id": "9p7TRYdL_kej"
      },
      "source": [
        "## IF Statement"
      ]
    },
    {
      "cell_type": "markdown",
      "metadata": {
        "id": "9FaGh1W9_nwC"
      },
      "source": [
        "Python IF Statement syntax"
      ]
    },
    {
      "cell_type": "code",
      "metadata": {
        "id": "tlFwpDLw_-XK"
      },
      "source": [
        "if test expression:\n",
        "  statement(s)"
      ],
      "execution_count": null,
      "outputs": []
    },
    {
      "cell_type": "markdown",
      "metadata": {
        "id": "tGOEHGqCAZpu"
      },
      "source": [
        "![Python_if_statement.webp](data:image/webp;base64,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)"
      ]
    },
    {
      "cell_type": "markdown",
      "metadata": {
        "id": "EiQPLC5EAgtc"
      },
      "source": [
        "**Example : Python IF Statement**"
      ]
    },
    {
      "cell_type": "code",
      "metadata": {
        "colab": {
          "base_uri": "https://localhost:8080/"
        },
        "id": "d_ZvX9xxAqFm",
        "outputId": "47fe9e2b-b4dd-4680-fff3-322c47e6fb79"
      },
      "source": [
        "# Jika angka adalah bilangan positif maka print \"adalah bilangan positif\"\n",
        "\n",
        "angka = 3\n",
        "if angka > 0:\n",
        "  print(angka, \"adalah bilangan positif.\")\n",
        "print(\"Pernyataan ini selalu ditampilkan\")\n",
        "\n",
        "angka = -1\n",
        "if angka > 0:\n",
        "  print(angka, \"adalah bilangan positif.\")\n",
        "print(\"Pernyataan ini selalu ditampilkan\")"
      ],
      "execution_count": null,
      "outputs": [
        {
          "output_type": "stream",
          "name": "stdout",
          "text": [
            "3 adalah bilangan positif.\n",
            "Pernyataan ini selalu ditampilkan\n",
            "Pernyataan ini selalu ditampilkan\n"
          ]
        }
      ]
    },
    {
      "cell_type": "code",
      "metadata": {
        "colab": {
          "base_uri": "https://localhost:8080/"
        },
        "id": "zpXLQf-kBMW3",
        "outputId": "a760dd3b-4550-4efd-a622-1b7608451321"
      },
      "source": [
        "angka = 3\n",
        "if angka > 0:\n",
        "  print(angka, \"adalah bilangan positif.\")\n",
        "print(\"Pernyataan ini selalu ditampilkan\")"
      ],
      "execution_count": null,
      "outputs": [
        {
          "output_type": "stream",
          "name": "stdout",
          "text": [
            "3 adalah bilangan positif.\n",
            "Pernyataan ini selalu ditampilkan\n"
          ]
        }
      ]
    },
    {
      "cell_type": "code",
      "metadata": {
        "colab": {
          "base_uri": "https://localhost:8080/"
        },
        "id": "KAv77CTNBLXK",
        "outputId": "18fc7101-835b-4c1b-d285-0922cea0eb55"
      },
      "source": [
        "angka = -1\n",
        "if angka > 0:\n",
        "  print(angka, \"adalah bilangan positif.\")\n",
        "print(\"Pernyataan ini selalu ditampilkan\")"
      ],
      "execution_count": null,
      "outputs": [
        {
          "output_type": "stream",
          "name": "stdout",
          "text": [
            "Pernyataan ini selalu ditampilkan\n"
          ]
        }
      ]
    },
    {
      "cell_type": "markdown",
      "metadata": {
        "id": "u00IBlA0BViY"
      },
      "source": [
        "## IF ELSE Statements"
      ]
    },
    {
      "cell_type": "markdown",
      "metadata": {
        "id": "k4A4TjrABYgu"
      },
      "source": [
        "**Python IF ELSE Statement Syntax**"
      ]
    },
    {
      "cell_type": "code",
      "metadata": {
        "id": "wEFWbeKGBdlR"
      },
      "source": [
        "if test expression:\n",
        "  Body of if\n",
        "else:\n",
        "  Body of else"
      ],
      "execution_count": null,
      "outputs": []
    },
    {
      "cell_type": "markdown",
      "metadata": {
        "id": "foRqn-yyBnKV"
      },
      "source": [
        "**Python IF ELSE Statement Flowchart**"
      ]
    },
    {
      "cell_type": "markdown",
      "metadata": {
        "id": "GY2WO7ZOBs4o"
      },
      "source": [
        "![cb023095206e9938b0a3b18b1895469e.jpg](data:image/jpeg;base64,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)"
      ]
    },
    {
      "cell_type": "markdown",
      "metadata": {
        "id": "H2zRnq8GCiG1"
      },
      "source": [
        "**Example : Python IF ELSE Statement**"
      ]
    },
    {
      "cell_type": "code",
      "metadata": {
        "colab": {
          "base_uri": "https://localhost:8080/"
        },
        "id": "m0vpPB1ZCnXx",
        "outputId": "4cda77b6-2330-4218-991d-9d9234c809ce"
      },
      "source": [
        "# Program disusun untuk mengecek apakah angka tersebut kurang dari 0 atau tidak\n",
        "# dan menampilkan tulisan yang sesuai\n",
        "\n",
        "angka = 3\n",
        "\n",
        "if angka >= 0:\n",
        "  print(\"Bilangan lebih dari atau samadengan 0\")\n",
        "else:\n",
        "  print(\"Bilangan kurang dari 0\")"
      ],
      "execution_count": null,
      "outputs": [
        {
          "output_type": "stream",
          "name": "stdout",
          "text": [
            "Bilangan lebih dari atau samadengan 0\n"
          ]
        }
      ]
    },
    {
      "cell_type": "code",
      "metadata": {
        "colab": {
          "base_uri": "https://localhost:8080/"
        },
        "id": "PlYaGc3CC_Is",
        "outputId": "0d76c251-eab6-4866-c303-853bf3598abc"
      },
      "source": [
        "# Program disusun untuk mengecek apakah dua buah angka sama atau tidak\n",
        "# dan menampilkan tulisan yang sesuai\n",
        "\n",
        "a = 5\n",
        "b = 5\n",
        "\n",
        "if a==b:\n",
        "  print(\"a dan b bernilai sama\")\n",
        "else:\n",
        "  print(\"a dan b bernilai berbeda\")\n",
        "  print(\"Belajar If Else\")"
      ],
      "execution_count": null,
      "outputs": [
        {
          "output_type": "stream",
          "name": "stdout",
          "text": [
            "a dan b bernilai sama\n"
          ]
        }
      ]
    },
    {
      "cell_type": "code",
      "metadata": {
        "colab": {
          "base_uri": "https://localhost:8080/"
        },
        "id": "GGfBIjZBDRUj",
        "outputId": "6b034c92-d2d6-4865-e63b-072bf2a185ea"
      },
      "source": [
        "# Program disusun untuk mengecek perbandingan dua buah angka\n",
        "# dan menampilkan tulisan yang sesuai\n",
        "\n",
        "# Membaca dua angka\n",
        "bil1 = int(input(\"Masukkan bilangan pertama: \"))\n",
        "bil2 = int(input(\"Masukkan bilangan kedua: \"))\n",
        "\n",
        "# Memilih bilangan yang lebih besar\n",
        "if bil1 > bil2:\n",
        "  bil_lebih_besar = bil1\n",
        "else:\n",
        "  bil_lebih_besar = bil2\n",
        "\n",
        "# Menampilkan hasil\n",
        "print(\"Bilangan yang lebih besar adalah:\", bil_lebih_besar)"
      ],
      "execution_count": null,
      "outputs": [
        {
          "output_type": "stream",
          "name": "stdout",
          "text": [
            "Masukkan bilangan pertama: 3\n",
            "Masukkan bilangan kedua: 5\n",
            "Bilangan yang lebih besar adalah: 5\n"
          ]
        }
      ]
    },
    {
      "cell_type": "markdown",
      "metadata": {
        "id": "aAvtdi1qEEIv"
      },
      "source": [
        "## IF ELIF ELSE Statements"
      ]
    },
    {
      "cell_type": "markdown",
      "metadata": {
        "id": "Haebf4qZEHVj"
      },
      "source": [
        "**Python IF ELIF ELSE Statement Syntax**"
      ]
    },
    {
      "cell_type": "code",
      "metadata": {
        "id": "TNiJkQXcEMXF"
      },
      "source": [
        "if test expression:\n",
        "  Body of if\n",
        "elif test expression:\n",
        "  Body of elif\n",
        "else:\n",
        "  Body of else"
      ],
      "execution_count": null,
      "outputs": []
    },
    {
      "cell_type": "markdown",
      "metadata": {
        "id": "43xuqGcZEXIA"
      },
      "source": [
        "**Body IF ELIF ELSE Statement Flow Chart**"
      ]
    },
    {
      "cell_type": "markdown",
      "metadata": {
        "id": "EqLuXxS9Edr0"
      },
      "source": [
        "![Python_if_elif_else_statement-flow-chart.jpg](data:image/jpeg;base64,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)"
      ]
    },
    {
      "cell_type": "markdown",
      "metadata": {
        "id": "Ccz2MiZXFMDZ"
      },
      "source": [
        "**Example : Python IF ELIF ELSE Statement**"
      ]
    },
    {
      "cell_type": "code",
      "metadata": {
        "colab": {
          "base_uri": "https://localhost:8080/"
        },
        "id": "B_6SxC0pFR4m",
        "outputId": "238586e1-6ef2-4be1-a576-53f370251621"
      },
      "source": [
        "# Program disusun untuk mengecek apakah angka merupakan bilangan positif, negatif, atau nol\n",
        "# dan menampilkan tulisan yang sesuai\n",
        "\n",
        "angka = 3.4\n",
        "\n",
        "if angka > 0:\n",
        "  print(\"Bilangan Positif\")\n",
        "elif num == 0:\n",
        "  print(\"Nol\")\n",
        "else:\n",
        "  print(\"Bilangan Negatif\")"
      ],
      "execution_count": null,
      "outputs": [
        {
          "output_type": "stream",
          "name": "stdout",
          "text": [
            "Bilangan Positif\n"
          ]
        }
      ]
    },
    {
      "cell_type": "code",
      "metadata": {
        "colab": {
          "base_uri": "https://localhost:8080/"
        },
        "id": "RTiV6et3FpF8",
        "outputId": "36f9c6b7-bf57-498f-e965-83aaa048cb3f"
      },
      "source": [
        "# Statement if\n",
        "x = 4\n",
        "if x % 2 == 0: # jika x dibagi 2 sisanya samadengan 0 \n",
        "  print(\"x habis dibagi dua\")\n",
        "\n",
        "# Statement if ... elif ... else\n",
        "x = 7\n",
        "if x % 2 == 0: # jika x dibagi 2 sisanya samadengan 0\n",
        "  print(\"x habis dibagi dua\")\n",
        "elif x % 3 == 0: # jika x dibagi 3 sisanya samadengan 0\n",
        "  print(\"x habis dibagi tiga\")\n",
        "elif x % 5 == 0: # jika x dibagi 5 sisanya samadengan 0\n",
        "  print(\"x habis dibagi lima\")\n",
        "else:\n",
        "  print(\"x tidak habis dibagi dua, tiga maupun lima\")"
      ],
      "execution_count": null,
      "outputs": [
        {
          "output_type": "stream",
          "name": "stdout",
          "text": [
            "x habis dibagi dua\n",
            "x tidak habis dibagi dua, tiga maupun lima\n"
          ]
        }
      ]
    },
    {
      "cell_type": "markdown",
      "metadata": {
        "id": "tDMN1MF7HGrT"
      },
      "source": [
        "## Python Nested IF Statement"
      ]
    },
    {
      "cell_type": "markdown",
      "metadata": {
        "id": "bb_W5bQOHLNO"
      },
      "source": [
        "**Example: Python NESTED IF Statement**"
      ]
    },
    {
      "cell_type": "code",
      "metadata": {
        "colab": {
          "base_uri": "https://localhost:8080/"
        },
        "id": "fiLR5WlpHPyH",
        "outputId": "79bd7b50-ebd8-4b94-b8b7-68f3bcebc068"
      },
      "source": [
        "# Program disusun untuk mengecek apakah angka merupakan bilangan positif, negatif, atau nol\n",
        "# dan menampilkan tulisan yang sesuai\n",
        "\n",
        "angka = float(input(\"Masukkan angka: \"))\n",
        "if angka >= 0:\n",
        "  if angka == 0:\n",
        "    print(\"Nol\")\n",
        "  else:\n",
        "    print(\"Bilangan Positif\")\n",
        "else:\n",
        "  print(\"Bilangan Negatif\")"
      ],
      "execution_count": null,
      "outputs": [
        {
          "output_type": "stream",
          "name": "stdout",
          "text": [
            "Masukkan angka: 4\n",
            "Bilangan Positif\n"
          ]
        }
      ]
    },
    {
      "cell_type": "markdown",
      "metadata": {
        "id": "ZZYakfYxHuZQ"
      },
      "source": [
        "## Latihan\n"
      ]
    },
    {
      "cell_type": "markdown",
      "metadata": {
        "id": "Gmz5fp5wHwql"
      },
      "source": [
        "Buatlah sebah fungsi \"Mahal_diskon\" dengan ketentuan:\n",
        "\n",
        "- Input berupa data harga produk dengan tipe data numerik Tunggal\n",
        "- Kategori input adalah \"Murah\" dan \"Mahal\", kemudian duskon ada 3 kategori \"10%\", \"20%\", dan \"40%\"\n",
        "- Output pertama sebuah teks/string yang menyatakan \"Mahal\" atau \"Murah\" dan keterangan \"Kamu dapat diskon...\"\n",
        "- Output kedua adalah harga yang perlu dibayarkan"
      ]
    },
    {
      "cell_type": "code",
      "metadata": {
        "colab": {
          "base_uri": "https://localhost:8080/"
        },
        "id": "CI0FYG-h14x1",
        "outputId": "4cdd4ef5-bd30-4a55-a079-00a5861833c4"
      },
      "source": [
        "harga = 160000\n",
        "def Harga_produk(harga):\n",
        "  Harga_diskon = harga\n",
        "\n",
        "if harga >= 450000:\n",
        "  print(Mahal, \"Kamu mendapatkan potongan diskon sebesar 40%\")\n",
        "  h = harga*(0.4)\n",
        "elif harga <= 120000:\n",
        "  print(Murah, \"Kamu mendapatkan potongan diskon sebesar 10%\")\n",
        "  h = harga*(0.1)\n",
        "else:\n",
        "  print(\"Murah, Kamu mendapatkan potongan diskon sebesar 20%\")\n",
        "  h = harga*(0.2)\n",
        "\n",
        "Harga_diskon = harga-h\n",
        "print(\"Harga yang perlu dibayar sebesar= \", \"Rp\", int(Harga_diskon))"
      ],
      "execution_count": 18,
      "outputs": [
        {
          "output_type": "stream",
          "name": "stdout",
          "text": [
            "Murah, Kamu mendapatkan potongan diskon sebesar 20%\n",
            "Harga yang perlu dibayar sebesar=  Rp 128000\n"
          ]
        }
      ]
    }
  ]
}