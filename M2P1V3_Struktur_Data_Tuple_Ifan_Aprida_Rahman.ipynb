{
  "nbformat": 4,
  "nbformat_minor": 0,
  "metadata": {
    "colab": {
      "name": "M2P1V3_Struktur_Data_Tuple_Ifan Aprida Rahman.ipynb",
      "provenance": [],
      "authorship_tag": "ABX9TyMiSt/ecJbHOLGrZEotT8yD",
      "include_colab_link": true
    },
    "kernelspec": {
      "name": "python3",
      "display_name": "Python 3"
    },
    "language_info": {
      "name": "python"
    }
  },
  "cells": [
    {
      "cell_type": "markdown",
      "metadata": {
        "id": "view-in-github",
        "colab_type": "text"
      },
      "source": [
        "<a href=\"https://colab.research.google.com/github/ifanapridarahman/Pejuang_Data_3/blob/main/M2P1V3_Struktur_Data_Tuple_Ifan_Aprida_Rahman.ipynb\" target=\"_parent\"><img src=\"https://colab.research.google.com/assets/colab-badge.svg\" alt=\"Open In Colab\"/></a>"
      ]
    },
    {
      "cell_type": "markdown",
      "metadata": {
        "id": "S8RndsZA8-hT"
      },
      "source": [
        "# Struktur Data Tuple"
      ]
    },
    {
      "cell_type": "markdown",
      "metadata": {
        "id": "r80fxb9i9Cna"
      },
      "source": [
        "Tuple adalah jenis dari struktur data yang tidak dapat diubah elemennya. Umumnya tuple digunakan untuk data yang bersifat sekali tulis dan dapat dieksekusi lebih cepat. Tuple didefinisikan dengan kurung dan elemen yang dipisahkan dengan koma"
      ]
    },
    {
      "cell_type": "code",
      "metadata": {
        "colab": {
          "base_uri": "https://localhost:8080/"
        },
        "id": "DTm367Zx9Qrw",
        "outputId": "56404c5b-8d8b-4d19-ab19-3a2b613e397d"
      },
      "source": [
        "#Contoh Tuple\n",
        "T1 = (1, \"dua\", True, 1+2j)\n",
        "print(\"ini adalah Tuple:\", T1)"
      ],
      "execution_count": 1,
      "outputs": [
        {
          "output_type": "stream",
          "name": "stdout",
          "text": [
            "ini adalah Tuple: (1, 'dua', True, (1+2j))\n"
          ]
        }
      ]
    },
    {
      "cell_type": "code",
      "metadata": {
        "colab": {
          "base_uri": "https://localhost:8080/"
        },
        "id": "ypyHTQbB9e0G",
        "outputId": "609e934c-6b76-4a62-b3ee-03538cb9c7bd"
      },
      "source": [
        "#Menampilkan tipe struktur data\n",
        "type(T1)"
      ],
      "execution_count": 2,
      "outputs": [
        {
          "output_type": "execute_result",
          "data": {
            "text/plain": [
              "tuple"
            ]
          },
          "metadata": {},
          "execution_count": 2
        }
      ]
    },
    {
      "cell_type": "markdown",
      "metadata": {
        "id": "qP_0eXQR9kqY"
      },
      "source": [
        "## Latihan 1"
      ]
    },
    {
      "cell_type": "markdown",
      "metadata": {
        "id": "j0VqTOvJ9oEz"
      },
      "source": [
        "Buatlah Tuple mu sendiri"
      ]
    },
    {
      "cell_type": "code",
      "metadata": {
        "colab": {
          "base_uri": "https://localhost:8080/"
        },
        "id": "r6YfKJi99rax",
        "outputId": "2c495b7f-8ed8-43eb-8021-8e84afaffdc5"
      },
      "source": [
        "C = (6, \"tiga\", False, 2+3j)\n",
        "print(\"ini merupakan tuple buatan saya:\", C)\n",
        "\n",
        "#Menampilkan tipe struktur data\n",
        "type(C)"
      ],
      "execution_count": 5,
      "outputs": [
        {
          "output_type": "stream",
          "name": "stdout",
          "text": [
            "ini merupakan tuple buatan saya: (6, 'tiga', False, (2+3j))\n"
          ]
        },
        {
          "output_type": "execute_result",
          "data": {
            "text/plain": [
              "tuple"
            ]
          },
          "metadata": {},
          "execution_count": 5
        }
      ]
    },
    {
      "cell_type": "markdown",
      "metadata": {
        "id": "_EJnjJUc-YTd"
      },
      "source": [
        "# Sifat-sifat Tuple"
      ]
    },
    {
      "cell_type": "code",
      "metadata": {
        "colab": {
          "base_uri": "https://localhost:8080/"
        },
        "id": "rUtq9K0X-bba",
        "outputId": "e3e60149-e710-411b-def3-7e8850a7986d"
      },
      "source": [
        "#Terurut/Ordered\n",
        "T1[0:3]"
      ],
      "execution_count": 6,
      "outputs": [
        {
          "output_type": "execute_result",
          "data": {
            "text/plain": [
              "(1, 'dua', True)"
            ]
          },
          "metadata": {},
          "execution_count": 6
        }
      ]
    },
    {
      "cell_type": "code",
      "metadata": {
        "colab": {
          "base_uri": "https://localhost:8080/",
          "height": 183
        },
        "id": "um0qGaee-gVh",
        "outputId": "d4a6825b-70bf-46e4-9825-d2dd5106c973"
      },
      "source": [
        "#Tidak bisa diganti/Immutable\n",
        "T1[2] = \"Manusia\""
      ],
      "execution_count": 7,
      "outputs": [
        {
          "output_type": "error",
          "ename": "TypeError",
          "evalue": "ignored",
          "traceback": [
            "\u001b[0;31m---------------------------------------------------------------------------\u001b[0m",
            "\u001b[0;31mTypeError\u001b[0m                                 Traceback (most recent call last)",
            "\u001b[0;32m<ipython-input-7-69654d15244f>\u001b[0m in \u001b[0;36m<module>\u001b[0;34m()\u001b[0m\n\u001b[1;32m      1\u001b[0m \u001b[0;31m#Tidak bisa diganti/Immutable\u001b[0m\u001b[0;34m\u001b[0m\u001b[0;34m\u001b[0m\u001b[0;34m\u001b[0m\u001b[0m\n\u001b[0;32m----> 2\u001b[0;31m \u001b[0mT1\u001b[0m\u001b[0;34m[\u001b[0m\u001b[0;36m2\u001b[0m\u001b[0;34m]\u001b[0m \u001b[0;34m=\u001b[0m \u001b[0;34m\"Manusia\"\u001b[0m\u001b[0;34m\u001b[0m\u001b[0;34m\u001b[0m\u001b[0m\n\u001b[0m",
            "\u001b[0;31mTypeError\u001b[0m: 'tuple' object does not support item assignment"
          ]
        }
      ]
    },
    {
      "cell_type": "code",
      "metadata": {
        "colab": {
          "base_uri": "https://localhost:8080/"
        },
        "id": "nP_8ISj7-oyW",
        "outputId": "3af896ee-ca4e-452b-f0bc-7a791c491eb8"
      },
      "source": [
        "#Dapat diindex/Slicing\n",
        "print(\"elemen kedua dari tuple T1 adalah:\", T1[1])"
      ],
      "execution_count": 8,
      "outputs": [
        {
          "output_type": "stream",
          "name": "stdout",
          "text": [
            "elemen kedua dari tuple T1 adalah: dua\n"
          ]
        }
      ]
    },
    {
      "cell_type": "code",
      "metadata": {
        "colab": {
          "base_uri": "https://localhost:8080/"
        },
        "id": "bu4F_DfT-xy8",
        "outputId": "53cd23ed-4e88-4f67-dc47-882211a31d5b"
      },
      "source": [
        "#Dapat diijinkan Duplikasi\n",
        "T2 = (3, 2.4, True, 2.4)\n",
        "T2"
      ],
      "execution_count": 9,
      "outputs": [
        {
          "output_type": "execute_result",
          "data": {
            "text/plain": [
              "(3, 2.4, True, 2.4)"
            ]
          },
          "metadata": {},
          "execution_count": 9
        }
      ]
    },
    {
      "cell_type": "markdown",
      "metadata": {
        "id": "Bn9Ishs_-5qd"
      },
      "source": [
        "Menggabungkan Tuple"
      ]
    },
    {
      "cell_type": "code",
      "metadata": {
        "colab": {
          "base_uri": "https://localhost:8080/"
        },
        "id": "iRbFXAcK-70v",
        "outputId": "04f96a20-94ff-4d30-c827-34044b41c96e"
      },
      "source": [
        "T3 = T1 + T2\n",
        "T3"
      ],
      "execution_count": 11,
      "outputs": [
        {
          "output_type": "execute_result",
          "data": {
            "text/plain": [
              "(1, 'dua', True, (1+2j), 3, 2.4, True, 2.4)"
            ]
          },
          "metadata": {},
          "execution_count": 11
        }
      ]
    },
    {
      "cell_type": "markdown",
      "metadata": {
        "id": "A_XVZDcQ_Avf"
      },
      "source": [
        "## Latihan 2"
      ]
    },
    {
      "cell_type": "markdown",
      "metadata": {
        "id": "FJZlosun_CaY"
      },
      "source": [
        "Buatlah tuple kedua lalu gabungkan 2 tuple yang telah kamu buat"
      ]
    },
    {
      "cell_type": "code",
      "metadata": {
        "colab": {
          "base_uri": "https://localhost:8080/"
        },
        "id": "nWUOieRz_Lse",
        "outputId": "f7677a83-0b62-42a4-bd5a-71d77993d4a1"
      },
      "source": [
        "#Membuat Tuple ke 2 dengan duplikasi\n",
        "C2 = (6 , \"UAD\", True, 6)\n",
        "C2"
      ],
      "execution_count": 16,
      "outputs": [
        {
          "output_type": "execute_result",
          "data": {
            "text/plain": [
              "(6, 'UAD', True, 6)"
            ]
          },
          "metadata": {},
          "execution_count": 16
        }
      ]
    },
    {
      "cell_type": "code",
      "metadata": {
        "colab": {
          "base_uri": "https://localhost:8080/"
        },
        "id": "BrtE3DD8_sa3",
        "outputId": "15f841f4-4633-499d-97c7-a6fbdfdb2ba5"
      },
      "source": [
        "#Menggabungkan kedua tuple yang telah dibuat menjadi satu\n",
        "A = C + C2\n",
        "A"
      ],
      "execution_count": 18,
      "outputs": [
        {
          "output_type": "execute_result",
          "data": {
            "text/plain": [
              "(6, 'tiga', False, (2+3j), 6, 'UAD', True, 6)"
            ]
          },
          "metadata": {},
          "execution_count": 18
        }
      ]
    }
  ]
}