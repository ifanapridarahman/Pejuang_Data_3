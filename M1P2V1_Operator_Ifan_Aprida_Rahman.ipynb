{
  "nbformat": 4,
  "nbformat_minor": 0,
  "metadata": {
    "colab": {
      "name": "M1P2V1_Operator_Ifan Aprida Rahman.ipynb",
      "provenance": []
    },
    "kernelspec": {
      "name": "python3",
      "display_name": "Python 3"
    },
    "language_info": {
      "name": "python"
    }
  },
  "cells": [
    {
      "cell_type": "markdown",
      "metadata": {
        "id": "hTsoxwE0Zy8M"
      },
      "source": [
        "# Operator"
      ]
    },
    {
      "cell_type": "markdown",
      "metadata": {
        "id": "K9f3feacZ1sY"
      },
      "source": [
        "Operator = Simbol-simbol yang dapat digunakan untuk mengubah nilai dari satu variabel dengan melibatkan satu atau lebih variabel dan literal"
      ]
    },
    {
      "cell_type": "markdown",
      "metadata": {
        "id": "ve0JMlsxaR-V"
      },
      "source": [
        "# Tipe-tipe Operator"
      ]
    },
    {
      "cell_type": "markdown",
      "metadata": {
        "id": "Jt_pGlBLaXAP"
      },
      "source": [
        "## 1. Operator Aritmatika"
      ]
    },
    {
      "cell_type": "markdown",
      "metadata": {
        "id": "MHhMYeJ7a4rq"
      },
      "source": [
        "Operator Aritmatika digunakan untuk melakukan operasi matematika yang umum"
      ]
    },
    {
      "cell_type": "code",
      "metadata": {
        "colab": {
          "base_uri": "https://localhost:8080/"
        },
        "id": "m_4hoiwObMOr",
        "outputId": "ce7059e9-4b2d-4e0e-b5c2-52be78ada9fd"
      },
      "source": [
        "# Contoh penggunakan operator aritmatika\n",
        "\n",
        "#Penjumlahan\n",
        "print('Penjumlahan')\n",
        "print(2+2)\n",
        "\n",
        "#Pengurangan\n",
        "print('-'*20)\n",
        "print('Pengurangan')\n",
        "print(2-3)\n",
        "\n",
        "#Perkalian\n",
        "print('-'*20)\n",
        "print('Perkalian')\n",
        "print(2*3)\n",
        "\n",
        "#Pembagian\n",
        "print('-'*20)\n",
        "print('Pembagian')\n",
        "print(2/3)\n",
        "\n",
        "#Modulus\n",
        "print('-'*20)\n",
        "print('Modulus')\n",
        "print(2%3)\n",
        "\n",
        "#Perpangkatan\n",
        "print('-'*20)\n",
        "print('Perpangkatan')\n",
        "print(2^3)\n",
        "\n",
        "#Pembagian Pembulatan Floring\n",
        "print('-'*20)\n",
        "print('Pembagian Pembulatan Floring')\n",
        "print(2//3)"
      ],
      "execution_count": 1,
      "outputs": [
        {
          "output_type": "stream",
          "name": "stdout",
          "text": [
            "Penjumlahan\n",
            "4\n",
            "--------------------\n",
            "Pengurangan\n",
            "-1\n",
            "--------------------\n",
            "Perkalian\n",
            "6\n",
            "--------------------\n",
            "Pembagian\n",
            "0.6666666666666666\n",
            "--------------------\n",
            "Modulus\n",
            "2\n",
            "--------------------\n",
            "Perpangkatan\n",
            "1\n",
            "--------------------\n",
            "Pembagian Pembulatan Floring\n",
            "0\n"
          ]
        }
      ]
    },
    {
      "cell_type": "markdown",
      "metadata": {
        "id": "19Z_X5-rgOCU"
      },
      "source": [
        "## Latihan Operator 1"
      ]
    },
    {
      "cell_type": "markdown",
      "metadata": {
        "id": "W4fTXVcgga-X"
      },
      "source": [
        "Buatlah program penerapan operator aritmatika dengan nilai-nilai yang berbeda dari contoh yang di atas"
      ]
    },
    {
      "cell_type": "code",
      "metadata": {
        "colab": {
          "base_uri": "https://localhost:8080/"
        },
        "id": "bXkN3kGygK-x",
        "outputId": "16d9c888-4d4f-4def-d1fb-19ffb2766f18"
      },
      "source": [
        "#Penjumlahan\n",
        "print('Penjumlahan')\n",
        "print(10+3)\n",
        "\n",
        "#Pengurangan\n",
        "print('-'*20)\n",
        "print('Pengurangan')\n",
        "print(4-5)\n",
        "\n",
        "#Perkalian\n",
        "print('-'*20)\n",
        "print('Perkalian')\n",
        "print(3*7)\n",
        "\n",
        "#Pembagian\n",
        "print('-'*20)\n",
        "print('Pembagian')\n",
        "print(6/2)\n",
        "\n",
        "#Modulus\n",
        "print('-'*20)\n",
        "print('Modulus')\n",
        "print(6%3)\n",
        "\n",
        "#Perpangkatan\n",
        "print('-'*20)\n",
        "print('Perpangkatan')\n",
        "print(4^4)\n",
        "\n",
        "#Pembagian Pembulatan Floring\n",
        "print('-'*20)\n",
        "print('Pembagian Pembulatan Floring')\n",
        "print(5//6)"
      ],
      "execution_count": 8,
      "outputs": [
        {
          "output_type": "stream",
          "name": "stdout",
          "text": [
            "Penjumlahan\n",
            "13\n",
            "--------------------\n",
            "Pengurangan\n",
            "-1\n",
            "--------------------\n",
            "Perkalian\n",
            "21\n",
            "--------------------\n",
            "Pembagian\n",
            "3.0\n",
            "--------------------\n",
            "Modulus\n",
            "0\n",
            "--------------------\n",
            "Perpangkatan\n",
            "0\n",
            "--------------------\n",
            "Pembagian Pembulatan Floring\n",
            "0\n"
          ]
        }
      ]
    },
    {
      "cell_type": "markdown",
      "metadata": {
        "id": "G4LNuNv2cyi_"
      },
      "source": [
        "## 2. Operator Assigment"
      ]
    },
    {
      "cell_type": "markdown",
      "metadata": {
        "id": "sJg05zBzc8Xc"
      },
      "source": [
        "Operator Assigment digunakan untuk menyimpan nilai menjadi suatu variabel"
      ]
    },
    {
      "cell_type": "code",
      "metadata": {
        "colab": {
          "base_uri": "https://localhost:8080/"
        },
        "id": "BkMgNv9pZZyP",
        "outputId": "534b29ef-538d-4ce3-cc5c-7323c5f04b0c"
      },
      "source": [
        "# Contoh penggunaan operator assigment\n",
        "\n",
        "#Penjumlahan\n",
        "x=5\n",
        "x=x+5\n",
        "print(x)\n",
        "x=5\n",
        "x+=3\n",
        "print(x)\n",
        "print('-'*20)\n",
        "\n",
        "#Pengurangan\n",
        "x=5\n",
        "x=x-5\n",
        "print(x)\n",
        "x=5\n",
        "x-=3\n",
        "print(x)\n",
        "print('-'*20)\n",
        "\n",
        "#Perkalian\n",
        "x=5\n",
        "x=x*5\n",
        "print(x)\n",
        "x=5\n",
        "x*=3\n",
        "print(x)\n",
        "print('-'*20)\n",
        "\n",
        "#Pembagian\n",
        "x=5\n",
        "x=x/5\n",
        "print(x)\n",
        "x=5\n",
        "x/=3\n",
        "print(x)\n",
        "print('-'*20)\n",
        "\n",
        "#Modulus\n",
        "x=5\n",
        "x=x%5\n",
        "print(x)\n",
        "x=5\n",
        "x%=3\n",
        "print(x)\n",
        "print('-'*20)\n",
        "\n",
        "#Pembagian Floring\n",
        "x=5\n",
        "x=x//5\n",
        "print(x)\n",
        "x=5\n",
        "x//=3\n",
        "print(x)\n",
        "print('-'*20)\n",
        "\n",
        "#Perpangkatan\n",
        "x=5\n",
        "x=x**5\n",
        "print(x)\n",
        "x=5\n",
        "x**=3\n",
        "print(x)\n",
        "print('-'*20)"
      ],
      "execution_count": 4,
      "outputs": [
        {
          "output_type": "stream",
          "name": "stdout",
          "text": [
            "10\n",
            "8\n",
            "--------------------\n",
            "0\n",
            "2\n",
            "--------------------\n",
            "25\n",
            "15\n",
            "--------------------\n",
            "1.0\n",
            "1.6666666666666667\n",
            "--------------------\n",
            "0\n",
            "2\n",
            "--------------------\n",
            "1\n",
            "1\n",
            "--------------------\n",
            "3125\n",
            "125\n",
            "--------------------\n"
          ]
        }
      ]
    },
    {
      "cell_type": "markdown",
      "metadata": {
        "id": "uU60FCohg1Zf"
      },
      "source": [
        "## Latihan Operator 2"
      ]
    },
    {
      "cell_type": "markdown",
      "metadata": {
        "id": "YLwPmxgpg4S2"
      },
      "source": [
        "Buatlah program penerapan operator aritmatika dengan nilai-nilai yang berbeda dari contoh yang di atas"
      ]
    },
    {
      "cell_type": "code",
      "metadata": {
        "colab": {
          "base_uri": "https://localhost:8080/"
        },
        "id": "hX5T6hw2g5Jr",
        "outputId": "2a06161a-82a2-4a54-8b0e-d0bd651c4d93"
      },
      "source": [
        "#Penjumlahan\n",
        "x=7\n",
        "x=x+7\n",
        "print(x)\n",
        "x=6\n",
        "x+=8\n",
        "print(x)\n",
        "print('-'*20)\n",
        "\n",
        "#Pengurangan\n",
        "x=4\n",
        "x=x-4\n",
        "print(x)\n",
        "x=5\n",
        "x-=10\n",
        "print(x)\n",
        "print('-'*20)\n",
        "\n",
        "#Perkalian\n",
        "x=7\n",
        "x=x*7\n",
        "print(x)\n",
        "x=2\n",
        "x*=9\n",
        "print(x)\n",
        "print('-'*20)\n",
        "\n",
        "#Pembagian\n",
        "x=3\n",
        "x=x/3\n",
        "print(x)\n",
        "x=6\n",
        "x/=3\n",
        "print(x)\n",
        "print('-'*20)\n",
        "\n",
        "#Modulus\n",
        "x=8\n",
        "x=x%8\n",
        "print(x)\n",
        "x=8\n",
        "x%=4\n",
        "print(x)\n",
        "print('-'*20)\n",
        "\n",
        "#Pembagian Floring\n",
        "x=10\n",
        "x=x//10\n",
        "print(x)\n",
        "x=8\n",
        "x//=3\n",
        "print(x)\n",
        "print('-'*20)\n",
        "\n",
        "#Perpangkatan\n",
        "x=3\n",
        "x=x**3\n",
        "print(x)\n",
        "x=6\n",
        "x**=3\n",
        "print(x)\n",
        "print('-'*20)"
      ],
      "execution_count": 9,
      "outputs": [
        {
          "output_type": "stream",
          "name": "stdout",
          "text": [
            "14\n",
            "14\n",
            "--------------------\n",
            "0\n",
            "-5\n",
            "--------------------\n",
            "49\n",
            "18\n",
            "--------------------\n",
            "1.0\n",
            "2.0\n",
            "--------------------\n",
            "0\n",
            "0\n",
            "--------------------\n",
            "1\n",
            "2\n",
            "--------------------\n",
            "27\n",
            "216\n",
            "--------------------\n"
          ]
        }
      ]
    },
    {
      "cell_type": "markdown",
      "metadata": {
        "id": "X7gjEhHAeH4Y"
      },
      "source": [
        "## 3. Operator Pembanding\n"
      ]
    },
    {
      "cell_type": "markdown",
      "metadata": {
        "id": "ky7YWllJeKWz"
      },
      "source": [
        "Operator Pembanding digunakan untuk membandingkan 2 nilai atau variabel"
      ]
    },
    {
      "cell_type": "code",
      "metadata": {
        "colab": {
          "base_uri": "https://localhost:8080/"
        },
        "id": "Zubr6yxieSH1",
        "outputId": "2a8e16b3-413c-47fa-9866-4640804298b0"
      },
      "source": [
        "#Contoh penggunaan operator pembanding\n",
        "\n",
        "print(2==2) #sama dengan\n",
        "print(2!=2) #tidak sama dengan\n",
        "print(2>2) #lebih dari\n",
        "print(2<2) #kurang dari\n",
        "print(2>=2) #lebih dari sama dengan\n",
        "print(2<=2) #kurang dari sama dengan"
      ],
      "execution_count": 5,
      "outputs": [
        {
          "output_type": "stream",
          "name": "stdout",
          "text": [
            "True\n",
            "False\n",
            "False\n",
            "False\n",
            "True\n",
            "True\n"
          ]
        }
      ]
    },
    {
      "cell_type": "markdown",
      "metadata": {
        "id": "q-n5PgoHhnnE"
      },
      "source": [
        "## Latihan Operator 3"
      ]
    },
    {
      "cell_type": "markdown",
      "metadata": {
        "id": "PKLJr8qVhqF6"
      },
      "source": [
        "Buatlah program penerapan operator aritmatika dengan nilai-nilai yang berbeda dari contoh yang di atas"
      ]
    },
    {
      "cell_type": "code",
      "metadata": {
        "colab": {
          "base_uri": "https://localhost:8080/"
        },
        "id": "vbhMHIbshq-j",
        "outputId": "2c2af003-cbd9-493d-d550-c65e6350074a"
      },
      "source": [
        "print(6==6) \n",
        "print(9!=4) \n",
        "print(3>1) \n",
        "print(5<8) \n",
        "print(4>=4) \n",
        "print(9<=3) "
      ],
      "execution_count": 10,
      "outputs": [
        {
          "output_type": "stream",
          "name": "stdout",
          "text": [
            "True\n",
            "True\n",
            "True\n",
            "True\n",
            "True\n",
            "False\n"
          ]
        }
      ]
    },
    {
      "cell_type": "markdown",
      "metadata": {
        "id": "_3v93lzPe4eX"
      },
      "source": [
        "## 4. Operator Logika"
      ]
    },
    {
      "cell_type": "markdown",
      "metadata": {
        "id": "ZGY9BpMIfEc8"
      },
      "source": [
        "Operator Logika digunakan untuk mengkombinasikan statement-statement kondisional"
      ]
    },
    {
      "cell_type": "code",
      "metadata": {
        "colab": {
          "base_uri": "https://localhost:8080/"
        },
        "id": "ZT5O5NAYfMbt",
        "outputId": "2cc87df6-dc26-476f-b6f2-794177abd032"
      },
      "source": [
        "#Contoh penggunaan operator logika\n",
        "\n",
        "print(True and False)\n",
        "print(False or True)\n",
        "print(not False and True)"
      ],
      "execution_count": 6,
      "outputs": [
        {
          "output_type": "stream",
          "name": "stdout",
          "text": [
            "False\n",
            "True\n",
            "True\n"
          ]
        }
      ]
    },
    {
      "cell_type": "markdown",
      "metadata": {
        "id": "GqfQMFCNh4xJ"
      },
      "source": [
        "## Latihan Operator 4"
      ]
    },
    {
      "cell_type": "markdown",
      "metadata": {
        "id": "gD-ODppzh7c0"
      },
      "source": [
        "Buatlah program penerapan operator aritmatika dengan nilai-nilai yang berbeda dari contoh yang di atas"
      ]
    },
    {
      "cell_type": "code",
      "metadata": {
        "colab": {
          "base_uri": "https://localhost:8080/"
        },
        "id": "5INEQg8UiDjr",
        "outputId": "4f882d57-a93f-41cd-ae43-696daf379c57"
      },
      "source": [
        "print(False and True)\n",
        "print(True or True)\n",
        "print(False and not True)"
      ],
      "execution_count": 11,
      "outputs": [
        {
          "output_type": "stream",
          "name": "stdout",
          "text": [
            "False\n",
            "True\n",
            "False\n"
          ]
        }
      ]
    },
    {
      "cell_type": "markdown",
      "metadata": {
        "id": "ql778C11fY-3"
      },
      "source": [
        "## 5. Operator Keanggotaan"
      ]
    },
    {
      "cell_type": "markdown",
      "metadata": {
        "id": "Gssq5PX9fio_"
      },
      "source": [
        "Operator keanggotaan digunakan untuk menguji apakah urutan disajikan dalam suatu objek"
      ]
    },
    {
      "cell_type": "code",
      "metadata": {
        "colab": {
          "base_uri": "https://localhost:8080/"
        },
        "id": "e7JKrzKgftvr",
        "outputId": "a8c74db6-1847-4e14-c61a-434a563ffa3d"
      },
      "source": [
        "# Contoh penggunaan operator keanggotaan\n",
        "a=(1,2,3,4,5,6)\n",
        "b=2\n",
        "\n",
        "print(b in a)\n",
        "\n",
        "print('-'*20)\n",
        "a=(1,2,3,4,5,6)\n",
        "b=7\n",
        "print(b not in a)"
      ],
      "execution_count": 7,
      "outputs": [
        {
          "output_type": "stream",
          "name": "stdout",
          "text": [
            "True\n",
            "--------------------\n",
            "True\n"
          ]
        }
      ]
    },
    {
      "cell_type": "markdown",
      "metadata": {
        "id": "V2Ll6SqviQ-k"
      },
      "source": [
        "## Latihan Operator 5"
      ]
    },
    {
      "cell_type": "markdown",
      "metadata": {
        "id": "mL6eNopMiTwO"
      },
      "source": [
        "Buatlah program penerapan operator aritmatika dengan nilai-nilai yang berbeda dari contoh yang di atas"
      ]
    },
    {
      "cell_type": "code",
      "metadata": {
        "colab": {
          "base_uri": "https://localhost:8080/"
        },
        "id": "7ztCgZWKiUnr",
        "outputId": "caf170e1-140d-4522-f200-df3f5d7f7eaf"
      },
      "source": [
        "a=(5,6,7,8,9,10,11)\n",
        "b=9\n",
        "\n",
        "print(b in a)\n",
        "\n",
        "print('-'*20)\n",
        "a=(6,7,8,9,10,11,12)\n",
        "b=20\n",
        "print(b not in a)"
      ],
      "execution_count": 12,
      "outputs": [
        {
          "output_type": "stream",
          "name": "stdout",
          "text": [
            "True\n",
            "--------------------\n",
            "True\n"
          ]
        }
      ]
    }
  ]
}