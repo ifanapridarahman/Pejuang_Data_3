{
  "nbformat": 4,
  "nbformat_minor": 0,
  "metadata": {
    "colab": {
      "name": "M1P2V2_Variabel_dan_Tipe_Data_Ifan Aprida Rahman.ipynb",
      "provenance": [],
      "collapsed_sections": []
    },
    "kernelspec": {
      "name": "python3",
      "display_name": "Python 3"
    },
    "language_info": {
      "name": "python"
    }
  },
  "cells": [
    {
      "cell_type": "markdown",
      "metadata": {
        "id": "KKdYUsZyjWLB"
      },
      "source": [
        "# Variabel dan Tipe Data"
      ]
    },
    {
      "cell_type": "markdown",
      "metadata": {
        "id": "OOF00D7_jZqf"
      },
      "source": [
        "## 1. Variabel"
      ]
    },
    {
      "cell_type": "markdown",
      "metadata": {
        "id": "AitxNmoQjbyS"
      },
      "source": [
        "Variabel = lokasi penyimpanan yang dapat digunakan untuk menampung sebuah data atau informasi\n",
        "Syarat-syarat penamaan variabel\n",
        "1. Karakter-karakter yang digunakan untuk penamaan variabel adalah alphabet, angka dan underscore\n",
        "2. Karakter pertama variabel harus berupa huruf atau garis bawah/underscore, dan tidak bisa berupa angka\n",
        "3. Nama sebuah variabel tidak bisa menggunakan keyword atau reserves words dari bahasa python seperti for, if, dan lainnya\n",
        "4. Karakter pada nama variabel bersifat sensitif (case-sensitif)"
      ]
    },
    {
      "cell_type": "code",
      "metadata": {
        "id": "LeakGmRDiyNC",
        "colab": {
          "base_uri": "https://localhost:8080/"
        },
        "outputId": "a3901d47-7393-4d2b-bb69-7d5db9ebe24c"
      },
      "source": [
        "# Membuat Variabel\n",
        "kalimat = 'ini adalah variabel'\n",
        "bilangan1 = 4\n",
        "bilangan2 = 2.5\n",
        "bilangan3 = True\n",
        "bilangan4 = 1j + 4\n",
        "\n",
        "#Menampilkan variabel\n",
        "print(kalimat)\n",
        "print(bilangan1)\n",
        "print(bilangan2)\n",
        "print(bilangan3)\n",
        "print(bilangan4)"
      ],
      "execution_count": 8,
      "outputs": [
        {
          "output_type": "stream",
          "name": "stdout",
          "text": [
            "ini adalah variabel\n",
            "4\n",
            "2.5\n",
            "True\n",
            "(4+1j)\n"
          ]
        }
      ]
    },
    {
      "cell_type": "markdown",
      "metadata": {
        "id": "l27XBqxdBgWz"
      },
      "source": [
        "## Latihan 1"
      ]
    },
    {
      "cell_type": "markdown",
      "metadata": {
        "id": "lDYAPG3-BieM"
      },
      "source": [
        "Buatlah 5 variabel kalian sendiri dengan 5 macam tipe data lalu tampilkan variabel dengan menggunakan fungsi print"
      ]
    },
    {
      "cell_type": "code",
      "metadata": {
        "colab": {
          "base_uri": "https://localhost:8080/"
        },
        "id": "oGm3prCcB4mc",
        "outputId": "06a9d0ec-7aa0-4113-d446-c835ef55eacb"
      },
      "source": [
        "kata = 'Saya mengikuti kelas dasar Pusat Studi Data Sains Matematika '\n",
        "angka1 = 7\n",
        "angka2 = 4.9\n",
        "angka3 = False\n",
        "angka4 = 7j + 9\n",
        "\n",
        "#Menampilkan variabel\n",
        "print(kata)\n",
        "print(angka1)\n",
        "print(angka2)\n",
        "print(angka3)\n",
        "print(angka4)"
      ],
      "execution_count": 51,
      "outputs": [
        {
          "output_type": "stream",
          "name": "stdout",
          "text": [
            "Saya mengikuti kelas dasar Pusat Studi Data Sains Matematika \n",
            "7\n",
            "4.9\n",
            "False\n",
            "(9+7j)\n"
          ]
        }
      ]
    },
    {
      "cell_type": "markdown",
      "metadata": {
        "id": "20VRMbfxCR4P"
      },
      "source": [
        "## 2. Tipe Data"
      ]
    },
    {
      "cell_type": "markdown",
      "metadata": {
        "id": "X0zdjep3CTwl"
      },
      "source": [
        "5 tipe data yaitu\n",
        "1. Integer atau bilangan bulat\n",
        "2. Float atau bilangan desimal\n",
        "3. String atau kalimat\n",
        "4. Boolean yang terdiri dari True dan False\n",
        "5. Complex yang merupakan bilangan kompleks"
      ]
    },
    {
      "cell_type": "code",
      "metadata": {
        "colab": {
          "base_uri": "https://localhost:8080/"
        },
        "id": "vhKf3u36Ckuf",
        "outputId": "c5de0321-9fec-4178-8201-f7209e93804c"
      },
      "source": [
        "# Menampilkan tipe data\n",
        "print(type(kalimat))\n",
        "print(type(bilangan1))\n",
        "print(type(bilangan2))\n",
        "print(type(bilangan3))\n",
        "print(type(bilangan4))"
      ],
      "execution_count": 10,
      "outputs": [
        {
          "output_type": "stream",
          "name": "stdout",
          "text": [
            "<class 'str'>\n",
            "<class 'int'>\n",
            "<class 'float'>\n",
            "<class 'bool'>\n",
            "<class 'complex'>\n"
          ]
        }
      ]
    },
    {
      "cell_type": "markdown",
      "metadata": {
        "id": "tS2_2ksODSpI"
      },
      "source": [
        "## Latihan 2\n"
      ]
    },
    {
      "cell_type": "markdown",
      "metadata": {
        "id": "yuxgqU-rDU6g"
      },
      "source": [
        "Cek type data variabel yang telah kalian buat pada latihan 1"
      ]
    },
    {
      "cell_type": "code",
      "metadata": {
        "colab": {
          "base_uri": "https://localhost:8080/"
        },
        "id": "KLREU-8ODaw1",
        "outputId": "3794f168-a3e4-46fb-9a8c-258e779c49c1"
      },
      "source": [
        "print(type(kata))\n",
        "print(type(angka1))\n",
        "print(type(angka2))\n",
        "print(type(angka3))\n",
        "print(type(angka4))"
      ],
      "execution_count": 43,
      "outputs": [
        {
          "output_type": "stream",
          "name": "stdout",
          "text": [
            "<class 'str'>\n",
            "<class 'int'>\n",
            "<class 'float'>\n",
            "<class 'bool'>\n",
            "<class 'complex'>\n"
          ]
        }
      ]
    },
    {
      "cell_type": "markdown",
      "metadata": {
        "id": "I2Wgp_-UDqP6"
      },
      "source": [
        "## 3. Konversi Tipe Data"
      ]
    },
    {
      "cell_type": "markdown",
      "metadata": {
        "id": "QAHmWpAnDtD6"
      },
      "source": [
        "Syarat konversi tipe data\n",
        "1. Integer = int()\n",
        "2. Float = float()\n",
        "3. String = str()\n",
        "4. Boolean = bool()\n",
        "5. Complex = complex()"
      ]
    },
    {
      "cell_type": "code",
      "metadata": {
        "colab": {
          "base_uri": "https://localhost:8080/"
        },
        "id": "8oWzLAQJJOlM",
        "outputId": "5f40b53d-6e5e-4db6-b414-34afb9826b3c"
      },
      "source": [
        "# Konversi tipe data integer\n",
        "print(int(bilangan2))\n",
        "print(int(bilangan3))"
      ],
      "execution_count": 31,
      "outputs": [
        {
          "output_type": "stream",
          "name": "stdout",
          "text": [
            "2\n",
            "1\n"
          ]
        }
      ]
    },
    {
      "cell_type": "code",
      "metadata": {
        "id": "M_EsPWawJVVJ"
      },
      "source": [
        "# Konversi tipe data float\n",
        "print(float(bilangan1))\n",
        "print(float(bilangan3))"
      ],
      "execution_count": null,
      "outputs": []
    },
    {
      "cell_type": "code",
      "metadata": {
        "colab": {
          "base_uri": "https://localhost:8080/"
        },
        "id": "m7801DXFJc6_",
        "outputId": "9e5e0888-802a-4e53-ed28-7bbe69742163"
      },
      "source": [
        "# Konversi tipe data string\n",
        "print(str(bilangan1))\n",
        "print(str(bilangan2))\n",
        "print(str(bilangan3))"
      ],
      "execution_count": 32,
      "outputs": [
        {
          "output_type": "stream",
          "name": "stdout",
          "text": [
            "4\n",
            "2.5\n",
            "True\n"
          ]
        }
      ]
    },
    {
      "cell_type": "code",
      "metadata": {
        "colab": {
          "base_uri": "https://localhost:8080/"
        },
        "id": "2uKnCdhZJh61",
        "outputId": "64c70735-c038-43bc-9a08-65fbd5572a73"
      },
      "source": [
        "# Konversi tipe data bool\n",
        "print(bool(bilangan1))\n",
        "print(bool(bilangan2))"
      ],
      "execution_count": 33,
      "outputs": [
        {
          "output_type": "stream",
          "name": "stdout",
          "text": [
            "True\n",
            "True\n"
          ]
        }
      ]
    },
    {
      "cell_type": "code",
      "metadata": {
        "id": "gYMPzcq0KIHx"
      },
      "source": [
        "#Konversi tipe data compleks\n",
        "print(complex(bilangan1))\n",
        "print(complex(bilangan2))\n",
        "print(complex(bilangan3))"
      ],
      "execution_count": null,
      "outputs": []
    },
    {
      "cell_type": "markdown",
      "metadata": {
        "id": "ScBiNYq-GxTh"
      },
      "source": [
        "## Latihan 3"
      ]
    },
    {
      "cell_type": "markdown",
      "metadata": {
        "id": "VqRkCStKGzcO"
      },
      "source": [
        "Konversi tipe data variabel yang telah kalian buat menjadi berbagai macam tipe data"
      ]
    },
    {
      "cell_type": "code",
      "metadata": {
        "colab": {
          "base_uri": "https://localhost:8080/"
        },
        "id": "eQ-j7Sq7KMvI",
        "outputId": "2dee664d-d3c1-4969-cdab-fcdb30b78690"
      },
      "source": [
        "# Konversi tipe data integer\n",
        "print(int(angka1))\n",
        "print(int(angka2))\n",
        "print(int(angka3))"
      ],
      "execution_count": 45,
      "outputs": [
        {
          "output_type": "stream",
          "name": "stdout",
          "text": [
            "7\n",
            "4\n",
            "0\n"
          ]
        }
      ]
    },
    {
      "cell_type": "code",
      "metadata": {
        "id": "h8bxYzXmQHnD"
      },
      "source": [
        "#Konversi tipe data float\n",
        "print(float(kata))\n",
        "print(float(angka2))"
      ],
      "execution_count": null,
      "outputs": []
    },
    {
      "cell_type": "code",
      "metadata": {
        "colab": {
          "base_uri": "https://localhost:8080/"
        },
        "id": "oMtUdfvNKPii",
        "outputId": "01c54664-59ef-4329-cf16-a5a12dc8d258"
      },
      "source": [
        "#Konversi tipe data string\n",
        "print(str(kata))\n",
        "print(str(angka1))\n",
        "print(str(angka2))\n",
        "print(str(angka3))\n",
        "print(str(angka4))"
      ],
      "execution_count": 47,
      "outputs": [
        {
          "output_type": "stream",
          "name": "stdout",
          "text": [
            "Saya mengikuti kelas dasar Pusat Studi Data Sains Matematika UAD\n",
            "7\n",
            "4.9\n",
            "False\n",
            "(9+7j)\n"
          ]
        }
      ]
    },
    {
      "cell_type": "code",
      "metadata": {
        "colab": {
          "base_uri": "https://localhost:8080/"
        },
        "id": "7eEKimVOKqm-",
        "outputId": "cc86c283-e048-4a7b-8c66-811ece0cefb1"
      },
      "source": [
        "# Konversi tipe data bool\n",
        "print(bool(kata))\n",
        "print(bool(angka1))\n",
        "print(bool(angka2))\n",
        "print(bool(angka3))\n",
        "print(bool(angka4))"
      ],
      "execution_count": 48,
      "outputs": [
        {
          "output_type": "stream",
          "name": "stdout",
          "text": [
            "True\n",
            "True\n",
            "True\n",
            "False\n",
            "True\n"
          ]
        }
      ]
    },
    {
      "cell_type": "code",
      "metadata": {
        "id": "7P2V7TcOQK07"
      },
      "source": [
        "# Konversi tipe data complex\n",
        "print(complex(kata))\n",
        "print(complex(angka1))\n",
        "print(complex(angka2))\n",
        "print(complex(angka3))\n",
        "print(complex(angka4))"
      ],
      "execution_count": null,
      "outputs": []
    }
  ]
}