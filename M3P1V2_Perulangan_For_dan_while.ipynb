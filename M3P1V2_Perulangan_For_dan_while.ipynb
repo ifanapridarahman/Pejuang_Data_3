{
  "nbformat": 4,
  "nbformat_minor": 0,
  "metadata": {
    "colab": {
      "name": "M3P1V2_Perulangan_For_dan_while.ipynb",
      "provenance": [],
      "collapsed_sections": [],
      "authorship_tag": "ABX9TyMtyiXh7iwzYYw/8eER1u5C",
      "include_colab_link": true
    },
    "kernelspec": {
      "name": "python3",
      "display_name": "Python 3"
    },
    "language_info": {
      "name": "python"
    }
  },
  "cells": [
    {
      "cell_type": "markdown",
      "metadata": {
        "id": "view-in-github",
        "colab_type": "text"
      },
      "source": [
        "<a href=\"https://colab.research.google.com/github/ifanapridarahman/Pejuang_Data_3/blob/main/M3P1V2_Perulangan_For_dan_while.ipynb\" target=\"_parent\"><img src=\"https://colab.research.google.com/assets/colab-badge.svg\" alt=\"Open In Colab\"/></a>"
      ]
    },
    {
      "cell_type": "markdown",
      "metadata": {
        "id": "AVfWfTir6K6U"
      },
      "source": [
        "# Looping/Perulangan"
      ]
    },
    {
      "cell_type": "markdown",
      "metadata": {
        "id": "5bTA-o9s6RZA"
      },
      "source": [
        "Python menyediakan dua statement untuk melakukan proses perulangan yaitu for dan while. Diantara kedua statement ini, secara umum for lebih banyak digunakan daripada while"
      ]
    },
    {
      "cell_type": "markdown",
      "metadata": {
        "id": "nz8qOtue6hQU"
      },
      "source": [
        "# For Loop"
      ]
    },
    {
      "cell_type": "markdown",
      "metadata": {
        "id": "2GOikLM56jbX"
      },
      "source": [
        "Perulangan **for** digunakan untuk melakukan iterasi di dalam **sequence** seperti **list**, **tuple**, **string** dan **array** atau objek yang dapat diiterasi lainnya"
      ]
    },
    {
      "cell_type": "markdown",
      "metadata": {
        "id": "gDu7ypgC68Yf"
      },
      "source": [
        "**For Loop Syntax**"
      ]
    },
    {
      "cell_type": "code",
      "metadata": {
        "id": "QBkREZtt6--S"
      },
      "source": [
        "for val in sequence:\n",
        "  loop body"
      ],
      "execution_count": null,
      "outputs": []
    },
    {
      "cell_type": "markdown",
      "metadata": {
        "id": "2B6OEKlQ7acw"
      },
      "source": [
        "**For Loop Flowchart**"
      ]
    },
    {
      "cell_type": "markdown",
      "metadata": {
        "id": "2yWQfdh-7eqi"
      },
      "source": [
        "**Example : Python for Loop**"
      ]
    },
    {
      "cell_type": "code",
      "metadata": {
        "colab": {
          "base_uri": "https://localhost:8080/"
        },
        "id": "T2du8BvW7itb",
        "outputId": "2ce57d94-742a-4f11-81f9-575a32b8a729"
      },
      "source": [
        "# Program untuk menghitung jumlah semua angka dalam sebuah list\n",
        "L1 = [2, 4, 5, 7, 9]\n",
        "jumlah = 0\n",
        "\n",
        "# iterasi di dalam list\n",
        "for i in L1:\n",
        "  jumlah = jumlah + i\n",
        "\n",
        "print(jumlah)"
      ],
      "execution_count": 3,
      "outputs": [
        {
          "output_type": "stream",
          "name": "stdout",
          "text": [
            "27\n"
          ]
        }
      ]
    },
    {
      "cell_type": "markdown",
      "metadata": {
        "id": "z0Vcawq162vw"
      },
      "source": [
        "## The range() function"
      ]
    },
    {
      "cell_type": "code",
      "metadata": {
        "colab": {
          "base_uri": "https://localhost:8080/"
        },
        "id": "RbrRlb7g65iG",
        "outputId": "dbfc3d4e-4fd4-4a6a-e8fb-f03c984cdc07"
      },
      "source": [
        "# Program untuk melakukan iterasi di dalam list melalui indeks\n",
        "minuman = [\"teh\", \"boba\", \"kopi\", \"susu\"]\n",
        "p = len(minuman)\n",
        "\n",
        "# Iterasi di dalam list melalui indeks\n",
        "for i in range(p):\n",
        "  print(minuman[i])"
      ],
      "execution_count": null,
      "outputs": [
        {
          "output_type": "stream",
          "name": "stdout",
          "text": [
            "teh\n",
            "boba\n",
            "kopi\n",
            "susu\n"
          ]
        }
      ]
    },
    {
      "cell_type": "markdown",
      "metadata": {
        "id": "Ul72yZCK8XR7"
      },
      "source": [
        "## For loop with else"
      ]
    },
    {
      "cell_type": "code",
      "metadata": {
        "colab": {
          "base_uri": "https://localhost:8080/"
        },
        "id": "3uflvKja6KPa",
        "outputId": "4fe74ae9-715b-45c4-ade7-cc05f8bd767b"
      },
      "source": [
        "# Contoh for loop menggunakan else\n",
        "for i in range(p):\n",
        "  print(minuman[i])\n",
        "else:\n",
        "  print(\"Elemen sudah habis\")"
      ],
      "execution_count": null,
      "outputs": [
        {
          "output_type": "stream",
          "name": "stdout",
          "text": [
            "teh\n",
            "boba\n",
            "kopi\n",
            "susu\n",
            "Elemen sudah habis\n"
          ]
        }
      ]
    },
    {
      "cell_type": "markdown",
      "metadata": {
        "id": "CBVuOg508nxW"
      },
      "source": [
        "## Latihan 1"
      ]
    },
    {
      "cell_type": "markdown",
      "metadata": {
        "id": "5G0peahl8pZe"
      },
      "source": [
        "Diberikan **list_tagihan**. Kamu diminta untuk menghitung jumlah seluruh tagihan! Gunakan looping **for** untuk menyelesaikan tugas ini! Simpan hasilnya pada variabel **total_tagihan**"
      ]
    },
    {
      "cell_type": "code",
      "metadata": {
        "id": "3extWUHU6FX-",
        "colab": {
          "base_uri": "https://localhost:8080/"
        },
        "outputId": "5ef8e7c8-9f76-4299-85e3-a4da72d928d2"
      },
      "source": [
        "list_tagihan = [50000, 75000, -150000, 125000, 300000, -50000, 200000]\n",
        "jumlah = 0\n",
        "\n",
        "for i in list_tagihan:\n",
        "   total_tagihan= jumlah + i\n",
        "\n",
        "print(total_tagihan)"
      ],
      "execution_count": 14,
      "outputs": [
        {
          "output_type": "stream",
          "name": "stdout",
          "text": [
            "200000\n"
          ]
        }
      ]
    },
    {
      "cell_type": "markdown",
      "metadata": {
        "id": "lPRnq3Ny86O9"
      },
      "source": [
        "# While Loop"
      ]
    },
    {
      "cell_type": "markdown",
      "metadata": {
        "id": "xYYISIwh9Alw"
      },
      "source": [
        "While loop pada Python digunakan untuk melakukan iterasi pada blok kode selama nilai dari **test expression** adalah **true**"
      ]
    },
    {
      "cell_type": "markdown",
      "metadata": {
        "id": "jR0GBYP49Msz"
      },
      "source": [
        "**Syntax of While Loop in Python**"
      ]
    },
    {
      "cell_type": "code",
      "metadata": {
        "id": "p94w2EMa9QZ9"
      },
      "source": [
        "while test_expression:\n",
        "  Body of while"
      ],
      "execution_count": null,
      "outputs": []
    },
    {
      "cell_type": "markdown",
      "metadata": {
        "id": "dCMgPAqu9VLy"
      },
      "source": [
        "**While Loop Flowchart**"
      ]
    },
    {
      "cell_type": "markdown",
      "metadata": {
        "id": "VPEKRHx09aQc"
      },
      "source": [
        "**Example: Python while Loop**"
      ]
    },
    {
      "cell_type": "code",
      "metadata": {
        "colab": {
          "base_uri": "https://localhost:8080/"
        },
        "id": "EaUq1KQ09UtN",
        "outputId": "5d039ae0-ad51-4217-83ab-1eef30b314d8"
      },
      "source": [
        "# Program untuk menjumlahkan semua\n",
        "# bilangan asli hingga suku ke-n\n",
        "# jum = 1+2+3+...+n\n",
        "\n",
        "n = 10\n",
        "jumlah = 0\n",
        "i = 1\n",
        "\n",
        "while i <= n :\n",
        "  jumlah = jumlah + i\n",
        "  i = i + 1\n",
        "\n",
        "print(jumlah)"
      ],
      "execution_count": 10,
      "outputs": [
        {
          "output_type": "stream",
          "name": "stdout",
          "text": [
            "55\n"
          ]
        }
      ]
    },
    {
      "cell_type": "markdown",
      "metadata": {
        "id": "tsCfzEKT-kVf"
      },
      "source": [
        "## Latihan 2"
      ]
    },
    {
      "cell_type": "markdown",
      "metadata": {
        "id": "ozaI3l00-l-h"
      },
      "source": [
        "Diberikan list **tagihan** hitunglah **total_tagihan** menggunakan **while loop**"
      ]
    },
    {
      "cell_type": "code",
      "metadata": {
        "colab": {
          "base_uri": "https://localhost:8080/"
        },
        "id": "VwKBt8Opd5lm",
        "outputId": "adb5b28e-670e-4b57-f398-d2b7c26a8e20"
      },
      "source": [
        "tagihan = [50000, 75000, 125000, 300000, 200000]\n",
        "i=0\n",
        "jumlah_tagihan = len(tagihan)\n",
        "total_tagihan = 0\n",
        "\n",
        "while i < jumlah_tagihan:\n",
        "  total_tagihan += tagihan[i]\n",
        "  i += 1\n",
        "\n",
        "print(total_tagihan)"
      ],
      "execution_count": 25,
      "outputs": [
        {
          "output_type": "stream",
          "name": "stdout",
          "text": [
            "750000\n"
          ]
        }
      ]
    }
  ]
}