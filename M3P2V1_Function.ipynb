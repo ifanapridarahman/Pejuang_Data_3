{
  "nbformat": 4,
  "nbformat_minor": 0,
  "metadata": {
    "colab": {
      "name": "M3P2V1_Function.ipynb",
      "provenance": [],
      "collapsed_sections": [],
      "authorship_tag": "ABX9TyNTLZMeKhZ8Pq30rrrWAIEA",
      "include_colab_link": true
    },
    "kernelspec": {
      "name": "python3",
      "display_name": "Python 3"
    },
    "language_info": {
      "name": "python"
    }
  },
  "cells": [
    {
      "cell_type": "markdown",
      "metadata": {
        "id": "view-in-github",
        "colab_type": "text"
      },
      "source": [
        "<a href=\"https://colab.research.google.com/github/ifanapridarahman/Pejuang_Data_3/blob/main/M3P2V1_Function.ipynb\" target=\"_parent\"><img src=\"https://colab.research.google.com/assets/colab-badge.svg\" alt=\"Open In Colab\"/></a>"
      ]
    },
    {
      "cell_type": "markdown",
      "metadata": {
        "id": "O4qPeOk8AVvM"
      },
      "source": [
        "# Function"
      ]
    },
    {
      "cell_type": "markdown",
      "metadata": {
        "id": "QQwroyB9AX8Y"
      },
      "source": [
        "Function (Fungsi) adalah sebuah blok statement yang hanya akan dijalankan saat ia dipanggil.\n",
        "\n",
        "Fungsi len() untuk mengukur jumlah elemen dalam sebuah list dan fungsi print() untuk menampilkan pesan pada layar konsol merupakan contoh dari bentuk fungsi yang telah disediakan oleh bahasa pemrograman Python atau dengan kata lain built-in function.\n",
        "\n",
        "Selain fungsi yang telah disediakan oleh python, Python mengizinkan untuk mendeklarasikan fungsi dalam kode yang dituliskan yang dikenal dengan user defined function."
      ]
    },
    {
      "cell_type": "code",
      "metadata": {
        "id": "Ah7EKY2jA-NQ"
      },
      "source": [
        "def nama_fungsi(argument):\n",
        "  statement_1\n",
        "  ...\n",
        "  statement_n\n",
        "  return returned_value"
      ],
      "execution_count": null,
      "outputs": []
    },
    {
      "cell_type": "markdown",
      "metadata": {
        "id": "5ws6oywiBSii"
      },
      "source": [
        "- **nama_fungsi** adalah nama untuk fungsi yang Anda definisikan, memiliki aturan seperti penamaan variabel\n",
        "- **argument** adalah variabel masukan ke fungsi, bisa tanpa variabel, satu variabel atau lebih\n",
        "- **statement_1** ... statement_n adalah algoritma yang telah Anda transfer dalam bahasa Python yang merupakan inti dari fungsi yang Anda definisikan. Seluruh statement adalah menjorok (indent) ke dalam seperti yang pernah anda pelajari pada conditioning dan looping\n",
        "- **return_value** adalah variabel output dari fungsi Anda, bisa tanpa variabel, satu variabel atau lebih"
      ]
    },
    {
      "cell_type": "markdown",
      "metadata": {
        "id": "sQSi2GzdCIB7"
      },
      "source": [
        "## Argumen Posisi dan Kata Kunci"
      ]
    },
    {
      "cell_type": "markdown",
      "metadata": {
        "id": "TMSAC5UUCLjF"
      },
      "source": [
        "Kita bisa menyatakan argumen sebagai argumen posisi atau kata kunci. Beberapa manfaat argumen kata kunci dapat berguna:\n",
        "- Kita dapat menyebut argumen dengan nama mereka untuk memperjelas apa yang mereka wakili\n",
        "- Kita dapat mengatur ulang argumen dengan cara yang membuatnya paling mudah dibaca"
      ]
    },
    {
      "cell_type": "code",
      "metadata": {
        "colab": {
          "base_uri": "https://localhost:8080/"
        },
        "id": "kAlH1awv_xbp",
        "outputId": "a035c690-27de-4723-c783-3f65ff1aed95"
      },
      "source": [
        "def angka(a,b,c):\n",
        "  print(a, b ,c)\n",
        "\n",
        "# Argumen posisi\n",
        "# Argumen berdasarkan posisinya\n",
        "angka(1, 2, 3)\n",
        "\n",
        "# Argumen berdasarkan kata kuncinya\n",
        "angka(a=1, b=2, c=3)\n",
        "angka(c=3, b=2, a=1)\n",
        "# Catatan: jika sudah diberi kunci maka urutan tidak menjadi penting\n",
        "\n",
        "# Campuran antara argumen posisi dan argumen kata kunci\n",
        "angka(1, b=2, c=3)\n",
        "\n",
        "# Ini tidak diizinkan:\n",
        "# foo(1, b=2, 3) # Argumen posisional setelah argumen kunci\n",
        "# foo(1, b=2, a=3) # terdapat dua nilai untuk argumen kunci 'a'"
      ],
      "execution_count": null,
      "outputs": [
        {
          "output_type": "stream",
          "name": "stdout",
          "text": [
            "1 2 3\n",
            "1 2 3\n",
            "1 2 3\n",
            "1 2 3\n"
          ]
        }
      ]
    },
    {
      "cell_type": "markdown",
      "metadata": {
        "id": "oZFs6aghDQfS"
      },
      "source": [
        "## Argumen Default"
      ]
    },
    {
      "cell_type": "markdown",
      "metadata": {
        "id": "-DeDskJODT2S"
      },
      "source": [
        "Fungsi dapat dikatakan argumen default dengan nilai yang telah ditentukan sebelumnya. Argumen ini dapat ditinggalkan dan nilai default kemudian diteruskan ke fungsi, atau argumen dapat dirubah dengan nilai yang berbeda. Perhatikan bahwa argumen default harus ditentukan sebagai **parameter terakhir** dalam suatu fungsi."
      ]
    },
    {
      "cell_type": "code",
      "metadata": {
        "colab": {
          "base_uri": "https://localhost:8080/"
        },
        "id": "TM8GtLbuGD8E",
        "outputId": "7a3a8494-e448-4c53-f4a8-990705f6faf3"
      },
      "source": [
        "# Argumen default\n",
        "def angka2(a, b, c, d=4):\n",
        "  print(a, b, c, d)\n",
        "\n",
        "angka2(1, 2, 3, 4)\n",
        "angka2(1, b=2, c=3, d=100)\n",
        "\n",
        "# Argumen default harus diletakkan terakhir"
      ],
      "execution_count": null,
      "outputs": [
        {
          "output_type": "stream",
          "name": "stdout",
          "text": [
            "1 2 3 4\n",
            "1 2 3 100\n"
          ]
        }
      ]
    },
    {
      "cell_type": "markdown",
      "metadata": {
        "id": "wBNlOPyzGXXC"
      },
      "source": [
        "## Praktik Membuat Fungsi"
      ]
    },
    {
      "cell_type": "code",
      "metadata": {
        "colab": {
          "base_uri": "https://localhost:8080/"
        },
        "id": "VTD8EjBRGokK",
        "outputId": "2b9eb0ff-6838-42f5-cb05-01d47a1b5b40"
      },
      "source": [
        "x = 1\n",
        "y = 2\n",
        "x*y"
      ],
      "execution_count": null,
      "outputs": [
        {
          "output_type": "execute_result",
          "data": {
            "text/plain": [
              "2"
            ]
          },
          "metadata": {},
          "execution_count": 3
        }
      ]
    },
    {
      "cell_type": "code",
      "metadata": {
        "colab": {
          "base_uri": "https://localhost:8080/"
        },
        "id": "bMw9lbBaGr-L",
        "outputId": "e9301e57-5f1a-4b14-9cc1-1a59f2cbbd0b"
      },
      "source": [
        "def penjumlahan(x, y):  #input\n",
        "  a=x+y                 # proses\n",
        "  return a              # output\n",
        "\n",
        "penjumlahan(1, 2)       # menggunakan fungsi\n"
      ],
      "execution_count": null,
      "outputs": [
        {
          "output_type": "execute_result",
          "data": {
            "text/plain": [
              "3"
            ]
          },
          "metadata": {},
          "execution_count": 5
        }
      ]
    },
    {
      "cell_type": "markdown",
      "metadata": {
        "id": "s7J1Cv8SHDs0"
      },
      "source": [
        "Penjumlaha yang memungkinkan untuk tiga bilangan"
      ]
    },
    {
      "cell_type": "code",
      "metadata": {
        "colab": {
          "base_uri": "https://localhost:8080/"
        },
        "id": "-CoXvfLXHG6P",
        "outputId": "555ad571-081f-493d-9521-9002cd28206f"
      },
      "source": [
        "def penjumlahan(x,y,z=None):\n",
        "  if (z==None):\n",
        "    return x+y\n",
        "  else:\n",
        "    return x+y+z\n",
        "\n",
        "print(penjumlahan(1, 2))\n",
        "print(penjumlahan(1, 2, 3))"
      ],
      "execution_count": null,
      "outputs": [
        {
          "output_type": "stream",
          "name": "stdout",
          "text": [
            "3\n",
            "6\n"
          ]
        }
      ]
    },
    {
      "cell_type": "markdown",
      "metadata": {
        "id": "ycsLb8T9HW0C"
      },
      "source": [
        "Menyimpan hasil fungsi dalam variabel"
      ]
    },
    {
      "cell_type": "code",
      "metadata": {
        "colab": {
          "base_uri": "https://localhost:8080/"
        },
        "id": "TMShiIkJHab9",
        "outputId": "61a14252-d871-4341-94f8-8505ba5bae73"
      },
      "source": [
        "def penjumlahan(x,y):\n",
        "  return x+y\n",
        "\n",
        "a = penjumlahan\n",
        "a(1,2)"
      ],
      "execution_count": null,
      "outputs": [
        {
          "output_type": "execute_result",
          "data": {
            "text/plain": [
              "3"
            ]
          },
          "metadata": {},
          "execution_count": 8
        }
      ]
    },
    {
      "cell_type": "markdown",
      "metadata": {
        "id": "oif5owR3JZg0"
      },
      "source": [
        "## Latihan 1"
      ]
    },
    {
      "cell_type": "markdown",
      "metadata": {
        "id": "5cW8u46lJbZ1"
      },
      "source": [
        "Buatlah Function Pythagoras dengan input argumennya panjang tinggi dan alas segitiga untuk menghasilkan output nilai panjang sisi miring"
      ]
    },
    {
      "cell_type": "code",
      "metadata": {
        "colab": {
          "base_uri": "https://localhost:8080/"
        },
        "id": "JNxdnjN0nWTr",
        "outputId": "ffee3d94-ebbb-4635-fe1d-d435bb917611"
      },
      "source": [
        "def pythagoras(a, b, c):\n",
        "  print(a, b, c)\n",
        "  \n",
        "print(\"Masukkan panjang tinggi (a): \")\n",
        "a = int(input())\n",
        "print(\"Masukkan alas segitiga (b): \")\n",
        "b = int(input())\n",
        "c = (a ** 2 + b**2)**(0.5)\n",
        "\n",
        "print(\"Panjang sisi miringnya adalah (c) = \" + str(c))"
      ],
      "execution_count": 8,
      "outputs": [
        {
          "output_type": "stream",
          "name": "stdout",
          "text": [
            "Masukkan panjang tinggi (a): \n",
            "3\n",
            "Masukkan alas segitiga (b): \n",
            "4\n",
            "Panjang sisi miringnya adalah (c) = 5.0\n"
          ]
        }
      ]
    },
    {
      "cell_type": "markdown",
      "metadata": {
        "id": "Z7u8Sz1HJk-e"
      },
      "source": [
        "## Latihan 2"
      ]
    },
    {
      "cell_type": "markdown",
      "metadata": {
        "id": "J4RjuJXZJnN7"
      },
      "source": [
        "Buatlah Function luas permukaan balok dengan input argumennya panjang, lebar, dan tinggi dari balok untuk menghasilkan output nilai luas permukaan balok tersebut"
      ]
    },
    {
      "cell_type": "code",
      "metadata": {
        "id": "K-q3xaoaJ0mO",
        "colab": {
          "base_uri": "https://localhost:8080/"
        },
        "outputId": "e60f1e87-1af6-486c-adf7-96331fd5b90b"
      },
      "source": [
        "def LP_Balok(p, l, t):\n",
        "  print(p, l, t)\n",
        "\n",
        "print(\"Masukkan nilai panjang (p): \")\n",
        "p = int(input())\n",
        "print(\"Masukkan nilai lebar (l): \")\n",
        "l = int(input())\n",
        "print(\"Masukkan nilai tinggi (t): \")\n",
        "t = int(input())\n",
        "\n",
        "LP_Balok = 2*(p*l + l*t + p*t)\n",
        "print(\"Luas permukaan balok: \" + str(LP_Balok))"
      ],
      "execution_count": 9,
      "outputs": [
        {
          "output_type": "stream",
          "name": "stdout",
          "text": [
            "Masukkan nilai panjang (p): \n",
            "30\n",
            "Masukkan nilai lebar (l): \n",
            "15\n",
            "Masukkan nilai tinggi (t): \n",
            "5\n",
            "Luas permukaan balok: 1350\n"
          ]
        }
      ]
    }
  ]
}