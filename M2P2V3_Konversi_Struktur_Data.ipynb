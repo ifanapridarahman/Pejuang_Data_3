{
  "nbformat": 4,
  "nbformat_minor": 0,
  "metadata": {
    "colab": {
      "name": "M2P2V3_Konversi Struktur Data.ipynb",
      "provenance": [],
      "collapsed_sections": [],
      "authorship_tag": "ABX9TyOWNGuDnBj4YAeWXOA9vMCS",
      "include_colab_link": true
    },
    "kernelspec": {
      "name": "python3",
      "display_name": "Python 3"
    },
    "language_info": {
      "name": "python"
    }
  },
  "cells": [
    {
      "cell_type": "markdown",
      "metadata": {
        "id": "view-in-github",
        "colab_type": "text"
      },
      "source": [
        "<a href=\"https://colab.research.google.com/github/ifanapridarahman/Pejuang_Data_3/blob/main/M2P2V3_Konversi_Struktur_Data.ipynb\" target=\"_parent\"><img src=\"https://colab.research.google.com/assets/colab-badge.svg\" alt=\"Open In Colab\"/></a>"
      ]
    },
    {
      "cell_type": "markdown",
      "metadata": {
        "id": "g9d5WYgUPkct"
      },
      "source": [
        "# Konversi Struktur Data"
      ]
    },
    {
      "cell_type": "markdown",
      "metadata": {
        "id": "NEljexosPn-6"
      },
      "source": [
        "Fungsi untuk mengubah/konversi struktur data:\n",
        "\n",
        "a. list() : Untuk mengubah menjadi list\n",
        "\n",
        "b. tuple() : Untuk mengubah menjadi tuple\n",
        "\n",
        "c. set() : Untuk mengubah menjadi set\n",
        "\n",
        "d. dict() : Untuk mengubah menjadi dictionary\n",
        "\n",
        "\n",
        "\n",
        "\n"
      ]
    },
    {
      "cell_type": "markdown",
      "metadata": {
        "id": "HSvdG61YQE5r"
      },
      "source": [
        "## Mengkonversi Tipe Data List"
      ]
    },
    {
      "cell_type": "code",
      "metadata": {
        "id": "IT12yG_cPna8"
      },
      "source": [
        "# Membuat 2 list\n",
        "L1 = [1,2,3,4]\n",
        "L2 = [5,6,7,8]"
      ],
      "execution_count": null,
      "outputs": []
    },
    {
      "cell_type": "code",
      "metadata": {
        "colab": {
          "base_uri": "https://localhost:8080/"
        },
        "id": "lgWFyef9OTP4",
        "outputId": "0892d4a8-4c9a-4484-f06a-100fbcd87308"
      },
      "source": [
        "# Mengkonversi struktur data list\n",
        "k_tuple = tuple(L1)\n",
        "k_set = set(L2)\n",
        "k_dict = dict(zip(L1,L2))\n",
        "\n",
        "#Melihat data yang telah dikonversi\n",
        "print(k_tuple)\n",
        "print(k_set)\n",
        "print(k_dict)"
      ],
      "execution_count": null,
      "outputs": [
        {
          "output_type": "stream",
          "name": "stdout",
          "text": [
            "(1, 2, 3, 4)\n",
            "{8, 5, 6, 7}\n",
            "{1: 5, 2: 6, 3: 7, 4: 8}\n"
          ]
        }
      ]
    },
    {
      "cell_type": "markdown",
      "metadata": {
        "id": "WGk7_QdoSa2j"
      },
      "source": [
        "## Mengkonversi tipe data tuple"
      ]
    },
    {
      "cell_type": "code",
      "metadata": {
        "id": "-yLQAsrdRhDJ"
      },
      "source": [
        "# Membuat dua tuple\n",
        "T1 = (1,2,3,4)\n",
        "T2 = (5,6,7,8)"
      ],
      "execution_count": null,
      "outputs": []
    },
    {
      "cell_type": "code",
      "metadata": {
        "colab": {
          "base_uri": "https://localhost:8080/"
        },
        "id": "yu-OCN-vRpzY",
        "outputId": "9d80c8c1-37af-4212-c557-0cb59e7424d6"
      },
      "source": [
        "# Mengkonversi struktur data tuple\n",
        "k_list = list(T1)\n",
        "k_set = set(T2)\n",
        "k_dict = dict(zip(T1,T2))\n",
        "\n",
        "#Melihat data yang telah dikonversi\n",
        "print(k_list)\n",
        "print(k_set)\n",
        "print(k_dict)"
      ],
      "execution_count": null,
      "outputs": [
        {
          "output_type": "stream",
          "name": "stdout",
          "text": [
            "[1, 2, 3, 4]\n",
            "{8, 5, 6, 7}\n",
            "{1: 5, 2: 6, 3: 7, 4: 8}\n"
          ]
        }
      ]
    },
    {
      "cell_type": "markdown",
      "metadata": {
        "id": "irv0Lm3vSfz2"
      },
      "source": [
        "## Mengkonversi tipe data set"
      ]
    },
    {
      "cell_type": "code",
      "metadata": {
        "id": "fDdzT-jFR6Mm"
      },
      "source": [
        "# Membuat dua set\n",
        "S1 = {1,2,3,4}\n",
        "S2 = {5,6,7,8}"
      ],
      "execution_count": null,
      "outputs": []
    },
    {
      "cell_type": "code",
      "metadata": {
        "colab": {
          "base_uri": "https://localhost:8080/"
        },
        "id": "WxnIf5bCSHU9",
        "outputId": "6d689270-60b1-4861-b4bc-6c04d4ccada8"
      },
      "source": [
        "# Mengkonversi struktur data set\n",
        "k_list = list(S1)\n",
        "k_tuple = tuple(S2)\n",
        "k_dict = dict(zip(S1,S2))\n",
        "\n",
        "#Melihat data yang telah dikonversi\n",
        "print(k_list)\n",
        "print(k_tuple)\n",
        "print(k_dict)"
      ],
      "execution_count": null,
      "outputs": [
        {
          "output_type": "stream",
          "name": "stdout",
          "text": [
            "[1, 2, 3, 4]\n",
            "(8, 5, 6, 7)\n",
            "{1: 8, 2: 5, 3: 6, 4: 7}\n"
          ]
        }
      ]
    },
    {
      "cell_type": "markdown",
      "metadata": {
        "id": "GN-Oz5_jSqFl"
      },
      "source": [
        "## Mengkonversi tipe data dictionary"
      ]
    },
    {
      "cell_type": "code",
      "metadata": {
        "id": "NpzPA3SQS4PF"
      },
      "source": [
        "D = {\n",
        "    \"nama\": \"Andi\",\n",
        "     \"alamat\" : \"Yogyakarta\",\n",
        "     \"umur\" : 20\n",
        "}"
      ],
      "execution_count": null,
      "outputs": []
    },
    {
      "cell_type": "code",
      "metadata": {
        "colab": {
          "base_uri": "https://localhost:8080/"
        },
        "id": "Hd_2M-44THun",
        "outputId": "ebbf54e7-c956-4193-c0d8-e21e80830dc0"
      },
      "source": [
        "# Mengkonversi struktur data dictionary dari key dan value-nya\n",
        "k_list = list(D.keys())\n",
        "k_tuple = tuple(D.values())\n",
        "k_set = set(D.keys())\n",
        "\n",
        "#Melihat data yang telah dikonversi\n",
        "print(k_list)\n",
        "print(k_tuple)\n",
        "print(k_set)"
      ],
      "execution_count": null,
      "outputs": [
        {
          "output_type": "stream",
          "name": "stdout",
          "text": [
            "['nama', 'alamat', 'umur']\n",
            "('Andi', 'Yogyakarta', 20)\n",
            "{'umur', 'nama', 'alamat'}\n"
          ]
        }
      ]
    },
    {
      "cell_type": "markdown",
      "metadata": {
        "id": "ET22FFNU1FnX"
      },
      "source": [
        "## Latihan"
      ]
    },
    {
      "cell_type": "markdown",
      "metadata": {
        "id": "P0Oe_Til1JeM"
      },
      "source": [
        "Lakukan konversi struktur data yang kalian buat pada notebook-notebook sebelumnya menjadi list, tuple, set, dan dictionary (masing-masing satu)"
      ]
    },
    {
      "cell_type": "markdown",
      "metadata": {
        "id": "830_mdoV6yeD"
      },
      "source": [
        "## Mengkonversi tipe data list"
      ]
    },
    {
      "cell_type": "code",
      "metadata": {
        "colab": {
          "base_uri": "https://localhost:8080/"
        },
        "id": "26wCzjjm63fH",
        "outputId": "b8c5771d-93c7-46a2-b33d-fbc37fb8e100"
      },
      "source": [
        "A = [1,2,\"UAD\",2+3j]\n",
        "B = [6,7,8,9]\n",
        "\n",
        "# Mengkonversi struktur data list\n",
        "k_tuple = tuple(A)\n",
        "k_set = set(B)\n",
        "k_dict = dict(zip(A,B))\n",
        "\n",
        "#Melihat data yang telah dikonversi\n",
        "print(k_tuple)\n",
        "print(k_set)\n",
        "print(k_dict)"
      ],
      "execution_count": 3,
      "outputs": [
        {
          "output_type": "stream",
          "name": "stdout",
          "text": [
            "(1, 2, 'UAD', (2+3j))\n",
            "{8, 9, 6, 7}\n",
            "{1: 6, 2: 7, 'UAD': 8, (2+3j): 9}\n"
          ]
        }
      ]
    },
    {
      "cell_type": "markdown",
      "metadata": {
        "id": "ZvJk7Lrw6vnt"
      },
      "source": [
        "## Mengkonversi tipe data set"
      ]
    },
    {
      "cell_type": "code",
      "metadata": {
        "colab": {
          "base_uri": "https://localhost:8080/"
        },
        "id": "d-Xy_eo91Xft",
        "outputId": "81556ad6-f366-4561-e43e-1dd1205b65f6"
      },
      "source": [
        "X = {4, \"Yogyakarta\", False, 3+2j}\n",
        "Y = {4,5,6,7}\n",
        "# Mengkonversi struktur data set\n",
        "k_list = list(X)\n",
        "k_tuple = tuple(Y)\n",
        "k_dict = dict(zip(X,Y))\n",
        "\n",
        "#Melihat data yang telah dikonversi\n",
        "print(k_list)\n",
        "print(k_tuple)\n",
        "print(k_dict)"
      ],
      "execution_count": 4,
      "outputs": [
        {
          "output_type": "stream",
          "name": "stdout",
          "text": [
            "['Yogyakarta', False, (3+2j), 4]\n",
            "(4, 5, 6, 7)\n",
            "{'Yogyakarta': 4, False: 5, (3+2j): 6, 4: 7}\n"
          ]
        }
      ]
    },
    {
      "cell_type": "markdown",
      "metadata": {
        "id": "cGmdOBf87T15"
      },
      "source": [
        "## Mengkonversi tipe data tuple"
      ]
    },
    {
      "cell_type": "code",
      "metadata": {
        "colab": {
          "base_uri": "https://localhost:8080/"
        },
        "id": "v3Omcex67j0k",
        "outputId": "b9834909-07e1-46bd-8626-a066471b3a9b"
      },
      "source": [
        "C = (6,10,\"PSDS 3.0\", False, 3+2j)\n",
        "D = (\"UAD 4\", True, 8,9)\n",
        "\n",
        "# Mengkonversi struktur data tuple\n",
        "k_list = list(C)\n",
        "k_set = set(D)\n",
        "k_dict = dict(zip(C,D))\n",
        "\n",
        "#Melihat data yang telah dikonversi\n",
        "print(k_list)\n",
        "print(k_set)\n",
        "print(k_dict)"
      ],
      "execution_count": 5,
      "outputs": [
        {
          "output_type": "stream",
          "name": "stdout",
          "text": [
            "[6, 10, 'PSDS 3.0', False, (3+2j)]\n",
            "{8, True, 9, 'UAD 4'}\n",
            "{6: 'UAD 4', 10: True, 'PSDS 3.0': 8, False: 9}\n"
          ]
        }
      ]
    },
    {
      "cell_type": "markdown",
      "metadata": {
        "id": "-rOlAv3W74gB"
      },
      "source": [
        "## Mengkonversi Tipe data Dictionary"
      ]
    },
    {
      "cell_type": "code",
      "metadata": {
        "colab": {
          "base_uri": "https://localhost:8080/"
        },
        "id": "k7TFNqdu77ZZ",
        "outputId": "6edf1df0-3fa6-4b6f-d4ed-1461b59f8aaf"
      },
      "source": [
        "Y = {4:'Universitas Ahmad Dahlan','Yogyakarta':5}\n",
        "\n",
        "# Mengkonversi struktur data dictionary dari key dan value-nya\n",
        "k_list = list(Y.keys())\n",
        "k_tuple = tuple(Y.values())\n",
        "k_set = set(Y.keys())\n",
        "\n",
        "#Melihat data yang telah dikonversi\n",
        "print(k_list)\n",
        "print(k_tuple)\n",
        "print(k_set)"
      ],
      "execution_count": 6,
      "outputs": [
        {
          "output_type": "stream",
          "name": "stdout",
          "text": [
            "[4, 'Yogyakarta']\n",
            "('Universitas Ahmad Dahlan', 5)\n",
            "{'Yogyakarta', 4}\n"
          ]
        }
      ]
    }
  ]
}